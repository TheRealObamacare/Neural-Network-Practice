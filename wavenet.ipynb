{
 "cells": [
  {
   "cell_type": "code",
   "execution_count": null,
   "metadata": {},
   "outputs": [],
   "source": [
    "import torch\n",
    "import torch.nn.functional as F\n",
    "import matplotlib.pyplot as plt\n",
    "%matplotlib inline"
   ]
  },
  {
   "cell_type": "code",
   "execution_count": 2,
   "metadata": {},
   "outputs": [],
   "source": [
    "words = open('names.txt', 'r').read().splitlines()"
   ]
  },
  {
   "cell_type": "code",
   "execution_count": 3,
   "metadata": {},
   "outputs": [
    {
     "name": "stdout",
     "output_type": "stream",
     "text": [
      "{1: 'a', 2: 'b', 3: 'c', 4: 'd', 5: 'e', 6: 'f', 7: 'g', 8: 'h', 9: 'i', 10: 'j', 11: 'k', 12: 'l', 13: 'm', 14: 'n', 15: 'o', 16: 'p', 17: 'q', 18: 'r', 19: 's', 20: 't', 21: 'u', 22: 'v', 23: 'w', 24: 'x', 25: 'y', 26: 'z', 0: '.'}\n"
     ]
    }
   ],
   "source": [
    "chars = sorted(list(set(''.join(words))))\n",
    "stoi = {ch: i+1 for i, ch in enumerate(chars)}\n",
    "stoi['.'] = 0\n",
    "itos = {i: ch for ch, i in stoi.items()}\n",
    "print(itos)"
   ]
  },
  {
   "cell_type": "code",
   "execution_count": 4,
   "metadata": {},
   "outputs": [
    {
     "name": "stdout",
     "output_type": "stream",
     "text": [
      "torch.Size([182625, 3]) torch.Size([182625])\n",
      "torch.Size([22655, 3]) torch.Size([22655])\n",
      "torch.Size([22866, 3]) torch.Size([22866])\n"
     ]
    }
   ],
   "source": [
    "def buildDataset(words):\n",
    "    block_size = 3\n",
    "    x, y = [], []\n",
    "    for w in words:\n",
    "        #print(w)\n",
    "        context = [0] * block_size\n",
    "        for ch in w + '.':\n",
    "            ix = stoi[ch]\n",
    "            x.append(context)\n",
    "            y.append(ix)\n",
    "            #print(''.join ([itos[i] for i in context]), '-->', itos[ix])\n",
    "            context = context[1:] + [ix]\n",
    "            \n",
    "    x = torch.tensor(x)\n",
    "    y = torch.tensor(y)\n",
    "    print(x.shape, y.shape)\n",
    "    return x, y\n",
    "import random\n",
    "random.seed(42)\n",
    "random.shuffle(words)\n",
    "n1 = int (len(words)*.8)    \n",
    "n2 = int (len(words)*.9)    \n",
    "x_train, y_train = buildDataset(words[:n1])\n",
    "x_val, y_val = buildDataset(words[n1:n2])\n",
    "x_test, y_test = buildDataset(words[n2:])\n"
   ]
  },
  {
   "cell_type": "code",
   "execution_count": 23,
   "metadata": {},
   "outputs": [],
   "source": [
    "class Linear:\n",
    "    def __init__(self, in_features, out_features, bias = True):\n",
    "        self.weight = torch.randn(in_features, out_features) / in_features**.5\n",
    "        self.bias = torch.zeros(out_features)\n",
    "        \n",
    "    def call(self, x):\n",
    "        return x @ self.weight + self.bias\n",
    "    \n",
    "    def parameters(self):\n",
    "        return [self.weight] + ([]if self.bias is None else [self.bias])\n",
    "    \n",
    "class BatchNorm1D:\n",
    "    def __init__(self, num_features, momentum = 0.1, eps = 1e-5):\n",
    "        self.momentum = momentum\n",
    "        self.eps = eps\n",
    "        self.training = True\n",
    "        self.gamma = torch.ones(num_features)\n",
    "        self.beta = torch.zeros(num_features)\n",
    "        self.running_mean = torch.zeros(num_features)\n",
    "        self.running_var = torch.ones(num_features)\n",
    "        \n",
    "    def call(self, x):\n",
    "        if self.training:\n",
    "            xmean = x.mean(0)\n",
    "            xvar = x.var(0)\n",
    "            self.running_mean = self.momentum * self.running_mean + (1 - self.momentum) * xmean\n",
    "            self.running_var = self.momentum * self.running_var + (1 - self.momentum) * xvar\n",
    "        else:\n",
    "            xmean = self.running_mean\n",
    "            xvar = self.running_var\n",
    "        xhat = (x - xmean) / (xvar + self.eps)**.5\n",
    "        if self.training:\n",
    "            with torch.no_grad():\n",
    "                self.running_mean = self.momentum + self.running_mean * (1 - self.momentum) * xmean\n",
    "                self.running_var = self.momentum + self.running_var * (1 - self.momentum) * xvar\n",
    "        return xhat * self.gamma + self.beta\n",
    "    \n",
    "    def parameters(self):\n",
    "        return [self.gamma, self.beta]\n",
    "    \n",
    "class TanH:\n",
    "    def call(self, x):\n",
    "        self.out = torch.tanh(x)\n",
    "        return self.out\n",
    "    def parameters(self):\n",
    "        return []"
   ]
  },
  {
   "cell_type": "code",
   "execution_count": 24,
   "metadata": {},
   "outputs": [
    {
     "name": "stdout",
     "output_type": "stream",
     "text": [
      "11897\n"
     ]
    }
   ],
   "source": [
    "n_embd = 10\n",
    "n_hidden = 200\n",
    "\n",
    "C = torch.randn(len(itos), n_embd)\n",
    "layers = [Linear(n_embd * block_size, n_hidden), TanH(), Linear(n_hidden, len(itos))]\n",
    "\n",
    "with torch.no_grad():\n",
    "    layers[-1].weight *= 0.1\n",
    "    \n",
    "    \n",
    "    \n",
    "params = [C] + [p for layer in layers for p in layer.parameters()]\n",
    "print(sum(p.nelement() for p in params))\n",
    "for p in params:\n",
    "    p.requires_grad = True"
   ]
  },
  {
   "cell_type": "code",
   "execution_count": null,
   "metadata": {},
   "outputs": [
    {
     "name": "stdout",
     "output_type": "stream",
     "text": [
      "0 2.419327735900879\n",
      "10000 2.211097240447998\n",
      "20000 2.374601364135742\n",
      "30000 1.9630528688430786\n",
      "40000 1.9265552759170532\n",
      "50000 1.8409568071365356\n",
      "60000 1.9745879173278809\n",
      "70000 1.9756969213485718\n",
      "80000 2.4776034355163574\n",
      "90000 2.0903468132019043\n",
      "100000 1.7549002170562744\n",
      "110000 2.1976664066314697\n",
      "120000 2.128587484359741\n",
      "130000 2.5364928245544434\n",
      "140000 2.0718045234680176\n",
      "150000 1.9549674987792969\n",
      "160000 1.9612271785736084\n",
      "170000 2.064079523086548\n",
      "180000 2.094541549682617\n",
      "190000 1.8247569799423218\n"
     ]
    }
   ],
   "source": [
    "lri, lossi, stepi = [], [], []\n",
    "\n",
    "for i in range(200000):\n",
    "    # Constructing a mini-batch\n",
    "    ix = torch.randint(0, len(x_train), (32,))\n",
    "    emb = C[x_train[ix]]\n",
    "    x = emb.view(emb.shape[0], -1)\n",
    "    for layer in layers:\n",
    "        x = layer.call(x)\n",
    "    loss = F.cross_entropy(x, y_train[ix])\n",
    "    for p in params:\n",
    "        p.grad = None\n",
    "    loss.backward()\n",
    "    lr = .1\n",
    "    for p in params:\n",
    "        p.data += -lr * p.grad\n",
    "    stepi.append(i)\n",
    "    #lri.append(lre[i])\n",
    "    lossi.append(loss.log10().item())\n",
    "    if i % 10000 == 0:\n",
    "        print(i, loss.item())\n",
    "        lr *= 0.95\n"
   ]
  },
  {
   "cell_type": "code",
   "execution_count": 27,
   "metadata": {},
   "outputs": [
    {
     "data": {
      "text/plain": [
       "[<matplotlib.lines.Line2D at 0x28f7dbc8830>]"
      ]
     },
     "execution_count": 27,
     "metadata": {},
     "output_type": "execute_result"
    },
    {
     "data": {
      "image/png": "[encoded data removed]",
      "text/plain": [
       "<Figure size 640x480 with 1 Axes>"
      ]
     },
     "metadata": {},
     "output_type": "display_data"
    }
   ],
   "source": [
    "plt.plot(lossi)"
   ]
  },
  {
   "cell_type": "code",
   "execution_count": 28,
   "metadata": {},
   "outputs": [],
   "source": [
    "for layer in layers:\n",
    "    layer.training = False"
   ]
  },
  {
   "cell_type": "code",
   "execution_count": 29,
   "metadata": {},
   "outputs": [
    {
     "name": "stdout",
     "output_type": "stream",
     "text": [
      "train 2.1367199420928955\n",
      "val 2.1816868782043457\n"
     ]
    }
   ],
   "source": [
    "@torch.no_grad()\n",
    "def splitLoss(split):\n",
    "    x,y = {\n",
    "        'train': (x_train, y_train),\n",
    "        'val': (x_val, y_val),\n",
    "        'test': (x_test, y_test)\n",
    "    }[split]\n",
    "    emb = C[x]\n",
    "    x = emb.view(emb.shape[0], -1)\n",
    "    for layer in layers:\n",
    "        x = layer.call(x)\n",
    "    loss = F.cross_entropy(x, y)\n",
    "    print(split, loss.item())\n",
    "    \n",
    "splitLoss('train')\n",
    "splitLoss('val')"
   ]
  },
  {
   "cell_type": "code",
   "execution_count": null,
   "metadata": {},
   "outputs": [],
   "source": []
  }
 ],
 "metadata": {
  "kernelspec": {
   "display_name": "a0",
   "language": "python",
   "name": "python3"
  },
  "language_info": {
   "codemirror_mode": {
    "name": "ipython",
    "version": 3
   },
   "file_extension": ".py",
   "mimetype": "text/x-python",
   "name": "python",
   "nbconvert_exporter": "python",
   "pygments_lexer": "ipython3",
   "version": "3.12.7"
  }
 },
 "nbformat": 4,
 "nbformat_minor": 2
}
