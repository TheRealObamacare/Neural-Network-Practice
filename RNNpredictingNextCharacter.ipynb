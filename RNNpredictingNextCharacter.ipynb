{
 "cells": [
  {
   "cell_type": "code",
   "execution_count": 34,
   "metadata": {},
   "outputs": [],
   "source": [
    "import torch\n",
    "import torch.nn.functional as F\n",
    "import matplotlib.pyplot as plt\n",
    "%matplotlib inline"
   ]
  },
  {
   "cell_type": "code",
   "execution_count": 35,
   "metadata": {},
   "outputs": [],
   "source": [
    "words = open('names.txt', 'r').read().splitlines()"
   ]
  },
  {
   "cell_type": "code",
   "execution_count": 36,
   "metadata": {},
   "outputs": [
    {
     "data": {
      "text/plain": [
       "['emma', 'olivia', 'ava', 'isabella', 'sophia', 'charlotte', 'mia', 'amelia']"
      ]
     },
     "execution_count": 36,
     "metadata": {},
     "output_type": "execute_result"
    }
   ],
   "source": [
    "words[:8]"
   ]
  },
  {
   "cell_type": "code",
   "execution_count": 37,
   "metadata": {},
   "outputs": [
    {
     "data": {
      "text/plain": [
       "32033"
      ]
     },
     "execution_count": 37,
     "metadata": {},
     "output_type": "execute_result"
    }
   ],
   "source": [
    "len(words)"
   ]
  },
  {
   "cell_type": "code",
   "execution_count": 38,
   "metadata": {},
   "outputs": [
    {
     "name": "stdout",
     "output_type": "stream",
     "text": [
      "{1: 'a', 2: 'b', 3: 'c', 4: 'd', 5: 'e', 6: 'f', 7: 'g', 8: 'h', 9: 'i', 10: 'j', 11: 'k', 12: 'l', 13: 'm', 14: 'n', 15: 'o', 16: 'p', 17: 'q', 18: 'r', 19: 's', 20: 't', 21: 'u', 22: 'v', 23: 'w', 24: 'x', 25: 'y', 26: 'z', 0: '.'}\n"
     ]
    }
   ],
   "source": [
    "chars = sorted(list(set(''.join(words))))\n",
    "stoi = {ch: i+1 for i, ch in enumerate(chars)}\n",
    "stoi['.'] = 0\n",
    "itos = {i: ch for ch, i in stoi.items()}\n",
    "print(itos)"
   ]
  },
  {
   "cell_type": "code",
   "execution_count": 39,
   "metadata": {},
   "outputs": [
    {
     "name": "stdout",
     "output_type": "stream",
     "text": [
      "torch.Size([182625, 3]) torch.Size([182625])\n",
      "torch.Size([22655, 3]) torch.Size([22655])\n",
      "torch.Size([22866, 3]) torch.Size([22866])\n"
     ]
    }
   ],
   "source": [
    "def buildDataset(words):\n",
    "    block_size = 3\n",
    "    x, y = [], []\n",
    "    for w in words:\n",
    "        #print(w)\n",
    "        context = [0] * block_size\n",
    "        for ch in w + '.':\n",
    "            ix = stoi[ch]\n",
    "            x.append(context)\n",
    "            y.append(ix)\n",
    "            #print(''.join ([itos[i] for i in context]), '-->', itos[ix])\n",
    "            context = context[1:] + [ix]\n",
    "            \n",
    "    x = torch.tensor(x)\n",
    "    y = torch.tensor(y)\n",
    "    print(x.shape, y.shape)\n",
    "    return x, y\n",
    "import random\n",
    "random.seed(42)\n",
    "random.shuffle(words)\n",
    "n1 = int (len(words)*.8)    \n",
    "n2 = int (len(words)*.9)    \n",
    "x_train, y_train = buildDataset(words[:n1])\n",
    "x_val, y_val = buildDataset(words[n1:n2])\n",
    "x_test, y_test = buildDataset(words[n2:])\n"
   ]
  },
  {
   "cell_type": "code",
   "execution_count": 40,
   "metadata": {},
   "outputs": [],
   "source": [
    "n_embd = 10\n",
    "n_hidden = 200\n",
    "block_size = 3\n",
    "\n",
    "C = torch.randn(len(itos), n_embd)\n",
    "W1 = torch.randn(n_embd * block_size, n_hidden)\n",
    "B1 = torch.randn(n_hidden)\n",
    "W2 = torch.randn(n_hidden, len(itos))\n",
    "B2 = torch.randn(len(itos))\n",
    "params = [C, W1, B1, W2, B2]\n",
    "for p in params:\n",
    "    p.requires_grad = True"
   ]
  },
  {
   "cell_type": "code",
   "execution_count": 41,
   "metadata": {},
   "outputs": [
    {
     "name": "stdout",
     "output_type": "stream",
     "text": [
      "0 27.487613677978516\n",
      "1000 3.83536696434021\n",
      "2000 3.4701476097106934\n",
      "3000 2.755993127822876\n",
      "4000 2.204185962677002\n",
      "5000 3.515378713607788\n",
      "6000 2.7417266368865967\n",
      "7000 2.6073501110076904\n",
      "8000 2.403043031692505\n",
      "9000 2.741934299468994\n",
      "10000 2.3660356998443604\n",
      "11000 2.9752824306488037\n",
      "12000 3.029843330383301\n",
      "13000 2.248863935470581\n",
      "14000 2.5635836124420166\n",
      "15000 2.2559902667999268\n",
      "16000 2.301504373550415\n",
      "17000 2.6802496910095215\n",
      "18000 2.358865976333618\n",
      "19000 1.790012001991272\n",
      "20000 2.3447651863098145\n",
      "21000 3.196031332015991\n",
      "22000 2.5080392360687256\n",
      "23000 2.53584885597229\n",
      "24000 2.676246166229248\n",
      "25000 2.373739242553711\n",
      "26000 2.356323719024658\n",
      "27000 2.5191047191619873\n",
      "28000 2.208317756652832\n",
      "29000 2.4634406566619873\n",
      "30000 2.081185817718506\n",
      "31000 2.284024238586426\n",
      "32000 1.8584388494491577\n",
      "33000 2.6186606884002686\n",
      "34000 2.085904836654663\n",
      "35000 1.640205979347229\n",
      "36000 2.0802340507507324\n",
      "37000 2.75677227973938\n",
      "38000 2.40325665473938\n",
      "39000 2.1253502368927\n",
      "40000 2.297633647918701\n",
      "41000 2.2572693824768066\n",
      "42000 2.63610577583313\n",
      "43000 2.4373016357421875\n",
      "44000 2.0846941471099854\n",
      "45000 1.922597885131836\n",
      "46000 2.221740484237671\n",
      "47000 2.2898809909820557\n",
      "48000 2.6641366481781006\n",
      "49000 2.6279163360595703\n",
      "50000 2.8115527629852295\n",
      "51000 2.4939541816711426\n",
      "52000 2.487727642059326\n",
      "53000 2.1480300426483154\n",
      "54000 1.9895681142807007\n",
      "55000 2.622860908508301\n",
      "56000 2.551119327545166\n",
      "57000 2.329479694366455\n",
      "58000 2.492893695831299\n",
      "59000 2.5063252449035645\n",
      "60000 2.3202295303344727\n",
      "61000 2.4465620517730713\n",
      "62000 2.132128953933716\n",
      "63000 2.439831018447876\n",
      "64000 2.3733551502227783\n",
      "65000 2.669292688369751\n",
      "66000 1.8743200302124023\n",
      "67000 2.3170173168182373\n",
      "68000 2.421731948852539\n",
      "69000 2.4052584171295166\n",
      "70000 2.3172922134399414\n",
      "71000 2.2074227333068848\n",
      "72000 1.9500994682312012\n",
      "73000 2.313325881958008\n",
      "74000 2.0147006511688232\n",
      "75000 2.3410563468933105\n",
      "76000 2.1453135013580322\n",
      "77000 2.197765350341797\n",
      "78000 1.998542070388794\n",
      "79000 2.1884076595306396\n",
      "80000 2.062108278274536\n",
      "81000 2.3495566844940186\n",
      "82000 2.301218271255493\n",
      "83000 2.503619432449341\n",
      "84000 2.0557875633239746\n",
      "85000 2.3964807987213135\n",
      "86000 2.07951021194458\n",
      "87000 2.5742440223693848\n",
      "88000 2.2256200313568115\n",
      "89000 2.288037061691284\n",
      "90000 2.1209394931793213\n",
      "91000 2.6444413661956787\n",
      "92000 1.9310640096664429\n",
      "93000 2.685115098953247\n",
      "94000 2.4220540523529053\n",
      "95000 2.576599359512329\n",
      "96000 2.4876582622528076\n",
      "97000 2.6583094596862793\n",
      "98000 1.7884873151779175\n",
      "99000 2.4116148948669434\n"
     ]
    }
   ],
   "source": [
    "max_steps = 100000\n",
    "batch_size = 32\n",
    "lossi = []\n",
    "\n",
    "for i in range(max_steps):\n",
    "    ix = torch.randint(0, len(x_train), (batch_size,))\n",
    "    Xb = x_train[ix]\n",
    "    Yb = y_train[ix]\n",
    "    \n",
    "    emb = C[Xb]\n",
    "    embcat = emb.view(emb.size(0), -1)\n",
    "    hpreact = embcat @ W1 + B1\n",
    "    h = hpreact.tanh()\n",
    "    logits = h @ W2 + B2\n",
    "    loss = F.cross_entropy(logits, Yb)\n",
    "    \n",
    "    for p in params:\n",
    "        p.grad = None\n",
    "    loss.backward()\n",
    "    \n",
    "    lr = .1\n",
    "    for p in params:\n",
    "        p.data -= lr * p.grad\n",
    "    \n",
    "        \n",
    "    if i % 1000 == 0:\n",
    "        print(i, loss.item())\n",
    "        lr *= .98\n",
    "    lossi.append(loss.log10().item())"
   ]
  },
  {
   "cell_type": "code",
   "execution_count": 42,
   "metadata": {},
   "outputs": [
    {
     "data": {
      "text/plain": [
       "[<matplotlib.lines.Line2D at 0x260aeaa91c0>]"
      ]
     },
     "execution_count": 42,
     "metadata": {},
     "output_type": "execute_result"
    },
    {
     "data": {
      "image/png": "[encoded data removed]",
      "text/plain": [
       "<Figure size 640x480 with 1 Axes>"
      ]
     },
     "metadata": {},
     "output_type": "display_data"
    }
   ],
   "source": [
    "plt.plot(lossi)"
   ]
  },
  {
   "cell_type": "code",
   "execution_count": 43,
   "metadata": {},
   "outputs": [
    {
     "name": "stdout",
     "output_type": "stream",
     "text": [
      "train 2.287203788757324\n",
      "val 2.314033031463623\n"
     ]
    }
   ],
   "source": [
    "@torch.no_grad()\n",
    "def split_loss(split):\n",
    "    x,y = {\n",
    "        'train': (x_train, y_train),\n",
    "        'val': (x_val, y_val),\n",
    "        'test': (x_test, y_test)\n",
    "    }[split]\n",
    "    emb = C[x]\n",
    "    embcat = emb.view(emb.size(0), -1)\n",
    "    h = torch.tanh(embcat @ W1 + B1)\n",
    "    logits = h @ W2 + B2\n",
    "    loss = F.cross_entropy(logits, y)\n",
    "    print(split, loss.item())\n",
    "    \n",
    "split_loss('train')\n",
    "split_loss('val')\n",
    "    "
   ]
  }
 ],
 "metadata": {
  "kernelspec": {
   "display_name": "a0",
   "language": "python",
   "name": "python3"
  },
  "language_info": {
   "codemirror_mode": {
    "name": "ipython",
    "version": 3
   },
   "file_extension": ".py",
   "mimetype": "text/x-python",
   "name": "python",
   "nbconvert_exporter": "python",
   "pygments_lexer": "ipython3",
   "version": "3.12.7"
  }
 },
 "nbformat": 4,
 "nbformat_minor": 2
}
