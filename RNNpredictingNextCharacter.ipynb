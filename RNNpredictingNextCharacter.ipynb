{
 "cells": [
  {
   "cell_type": "code",
   "execution_count": 34,
   "metadata": {},
   "outputs": [],
   "source": [
    "import torch\n",
    "import torch.nn.functional as F\n",
    "import matplotlib.pyplot as plt\n",
    "%matplotlib inline"
   ]
  },
  {
   "cell_type": "code",
   "execution_count": 35,
   "metadata": {},
   "outputs": [],
   "source": [
    "words = open('names.txt', 'r').read().splitlines()"
   ]
  },
  {
   "cell_type": "code",
   "execution_count": 36,
   "metadata": {},
   "outputs": [
    {
     "data": {
      "text/plain": [
       "['emma', 'olivia', 'ava', 'isabella', 'sophia', 'charlotte', 'mia', 'amelia']"
      ]
     },
     "execution_count": 36,
     "metadata": {},
     "output_type": "execute_result"
    }
   ],
   "source": [
    "words[:8]"
   ]
  },
  {
   "cell_type": "code",
   "execution_count": 37,
   "metadata": {},
   "outputs": [
    {
     "data": {
      "text/plain": [
       "32033"
      ]
     },
     "execution_count": 37,
     "metadata": {},
     "output_type": "execute_result"
    }
   ],
   "source": [
    "len(words)"
   ]
  },
  {
   "cell_type": "code",
   "execution_count": 38,
   "metadata": {},
   "outputs": [
    {
     "name": "stdout",
     "output_type": "stream",
     "text": [
      "{1: 'a', 2: 'b', 3: 'c', 4: 'd', 5: 'e', 6: 'f', 7: 'g', 8: 'h', 9: 'i', 10: 'j', 11: 'k', 12: 'l', 13: 'm', 14: 'n', 15: 'o', 16: 'p', 17: 'q', 18: 'r', 19: 's', 20: 't', 21: 'u', 22: 'v', 23: 'w', 24: 'x', 25: 'y', 26: 'z', 0: '.'}\n"
     ]
    }
   ],
   "source": [
    "chars = sorted(list(set(''.join(words))))\n",
    "stoi = {ch: i+1 for i, ch in enumerate(chars)}\n",
    "stoi['.'] = 0\n",
    "itos = {i: ch for ch, i in stoi.items()}\n",
    "print(itos)"
   ]
  },
  {
   "cell_type": "code",
   "execution_count": 39,
   "metadata": {},
   "outputs": [
    {
     "name": "stdout",
     "output_type": "stream",
     "text": [
      "torch.Size([182625, 3]) torch.Size([182625])\n",
      "torch.Size([22655, 3]) torch.Size([22655])\n",
      "torch.Size([22866, 3]) torch.Size([22866])\n"
     ]
    }
   ],
   "source": [
    "def buildDataset(words):\n",
    "    block_size = 3\n",
    "    x, y = [], []\n",
    "    for w in words:\n",
    "        #print(w)\n",
    "        context = [0] * block_size\n",
    "        for ch in w + '.':\n",
    "            ix = stoi[ch]\n",
    "            x.append(context)\n",
    "            y.append(ix)\n",
    "            #print(''.join ([itos[i] for i in context]), '-->', itos[ix])\n",
    "            context = context[1:] + [ix]\n",
    "            \n",
    "    x = torch.tensor(x)\n",
    "    y = torch.tensor(y)\n",
    "    print(x.shape, y.shape)\n",
    "    return x, y\n",
    "import random\n",
    "random.seed(42)\n",
    "random.shuffle(words)\n",
    "n1 = int (len(words)*.8)    \n",
    "n2 = int (len(words)*.9)    \n",
    "x_train, y_train = buildDataset(words[:n1])\n",
    "x_val, y_val = buildDataset(words[n1:n2])\n",
    "x_test, y_test = buildDataset(words[n2:])\n"
   ]
  },
  {
   "cell_type": "code",
   "execution_count": 52,
   "metadata": {},
   "outputs": [],
   "source": [
    "n_embd = 10\n",
    "n_hidden = 200\n",
    "block_size = 3\n",
    "\n",
    "C = torch.randn(len(itos), n_embd)\n",
    "W1 = torch.randn(n_embd * block_size, n_hidden) * (5/3)/(n_embd * block_size)**.5     #* .1\n",
    "B1 = torch.randn(n_hidden) * 0.01\n",
    "W2 = torch.randn(n_hidden, len(itos)) * .01 # To initialize the weights to be closer together\n",
    "B2 = torch.randn(len(itos)) * 0.01\n",
    "params = [C, W1, B1, W2, B2]\n",
    "for p in params:\n",
    "    p.requires_grad = True"
   ]
  },
  {
   "cell_type": "code",
   "execution_count": 53,
   "metadata": {},
   "outputs": [
    {
     "name": "stdout",
     "output_type": "stream",
     "text": [
      "0 3.2735865116119385\n",
      "1000 2.9676191806793213\n",
      "2000 2.099142074584961\n",
      "3000 1.9684855937957764\n",
      "4000 2.6324384212493896\n",
      "5000 2.086080551147461\n",
      "6000 2.284247875213623\n",
      "7000 2.4746623039245605\n",
      "8000 2.0719804763793945\n",
      "9000 2.768636703491211\n",
      "10000 2.563821792602539\n",
      "11000 1.9464467763900757\n",
      "12000 2.533900022506714\n",
      "13000 2.1041855812072754\n",
      "14000 2.394484758377075\n",
      "15000 2.432321786880493\n",
      "16000 1.915444254875183\n",
      "17000 2.2800469398498535\n",
      "18000 2.48219895362854\n",
      "19000 2.5049827098846436\n",
      "20000 2.0731849670410156\n",
      "21000 2.5024735927581787\n",
      "22000 2.0509793758392334\n",
      "23000 2.4480137825012207\n",
      "24000 2.1615517139434814\n",
      "25000 2.114492893218994\n",
      "26000 2.259075880050659\n",
      "27000 2.1229312419891357\n",
      "28000 2.1066441535949707\n",
      "29000 2.132178783416748\n",
      "30000 2.67696475982666\n",
      "31000 2.426970958709717\n",
      "32000 2.270646333694458\n",
      "33000 2.224930763244629\n",
      "34000 2.4965953826904297\n",
      "35000 2.6037023067474365\n",
      "36000 2.2074129581451416\n",
      "37000 1.8740090131759644\n",
      "38000 2.2206811904907227\n",
      "39000 2.421933889389038\n",
      "40000 1.9517513513565063\n",
      "41000 2.251789093017578\n",
      "42000 2.1809139251708984\n",
      "43000 2.1623079776763916\n",
      "44000 1.95836341381073\n",
      "45000 1.9206324815750122\n",
      "46000 1.9847078323364258\n",
      "47000 2.218728542327881\n",
      "48000 2.060833215713501\n",
      "49000 1.8948699235916138\n",
      "50000 2.706639051437378\n",
      "51000 2.3110690116882324\n",
      "52000 2.26204514503479\n",
      "53000 2.146455764770508\n",
      "54000 2.6130783557891846\n",
      "55000 2.3513193130493164\n",
      "56000 2.029280185699463\n",
      "57000 1.8902685642242432\n",
      "58000 1.997229814529419\n",
      "59000 2.220142126083374\n",
      "60000 2.7882046699523926\n",
      "61000 2.245722770690918\n",
      "62000 2.0579729080200195\n",
      "63000 2.2493507862091064\n",
      "64000 2.2384517192840576\n",
      "65000 1.8147112131118774\n",
      "66000 2.1248676776885986\n",
      "67000 1.9139752388000488\n",
      "68000 1.84170663356781\n",
      "69000 1.9652738571166992\n",
      "70000 1.8974335193634033\n",
      "71000 2.544080972671509\n",
      "72000 2.279412269592285\n",
      "73000 2.2844645977020264\n",
      "74000 2.270768165588379\n",
      "75000 2.748223066329956\n",
      "76000 2.569505453109741\n",
      "77000 1.9617831707000732\n",
      "78000 1.9981287717819214\n",
      "79000 2.123213291168213\n",
      "80000 2.0746681690216064\n",
      "81000 2.031414031982422\n",
      "82000 2.256413698196411\n",
      "83000 1.8641178607940674\n",
      "84000 2.4873952865600586\n",
      "85000 2.324777364730835\n",
      "86000 2.4797701835632324\n",
      "87000 1.9116355180740356\n",
      "88000 2.2021427154541016\n",
      "89000 2.041367530822754\n",
      "90000 2.289316415786743\n",
      "91000 1.7624974250793457\n",
      "92000 2.642401695251465\n",
      "93000 2.1778459548950195\n",
      "94000 2.079606294631958\n",
      "95000 2.2282533645629883\n",
      "96000 1.6840449571609497\n",
      "97000 2.3326473236083984\n",
      "98000 2.2278106212615967\n",
      "99000 2.0925886631011963\n"
     ]
    }
   ],
   "source": [
    "max_steps = 100000\n",
    "batch_size = 32\n",
    "lossi = []\n",
    "\n",
    "for i in range(max_steps):\n",
    "    ix = torch.randint(0, len(x_train), (batch_size,))\n",
    "    Xb = x_train[ix]\n",
    "    Yb = y_train[ix]\n",
    "    \n",
    "    emb = C[Xb]\n",
    "    embcat = emb.view(emb.size(0), -1)\n",
    "    hpreact = embcat @ W1 + B1\n",
    "    h = hpreact.tanh()\n",
    "    logits = h @ W2 + B2\n",
    "    loss = F.cross_entropy(logits, Yb)\n",
    "    \n",
    "    for p in params:\n",
    "        p.grad = None\n",
    "    loss.backward()\n",
    "    \n",
    "    lr = .1\n",
    "    for p in params:\n",
    "        p.data -= lr * p.grad\n",
    "    \n",
    "        \n",
    "    if i % 1000 == 0:\n",
    "        print(i, loss.item())\n",
    "        lr *= .98\n",
    "    lossi.append(loss.log10().item())"
   ]
  },
  {
   "cell_type": "code",
   "execution_count": 54,
   "metadata": {},
   "outputs": [
    {
     "data": {
      "text/plain": [
       "tensor(3.2958)"
      ]
     },
     "execution_count": 54,
     "metadata": {},
     "output_type": "execute_result"
    }
   ],
   "source": [
    "-torch.tensor(1/27.0).log() # expected initial loss, but it is 27 right now because the initial probabilities are not uniform"
   ]
  },
  {
   "cell_type": "code",
   "execution_count": 55,
   "metadata": {},
   "outputs": [
    {
     "data": {
      "text/plain": [
       "[<matplotlib.lines.Line2D at 0x260b09ac4a0>]"
      ]
     },
     "execution_count": 55,
     "metadata": {},
     "output_type": "execute_result"
    },
    {
     "data": {
      "image/png": "[encoded data removed]",
      "text/plain": [
       "<Figure size 640x480 with 1 Axes>"
      ]
     },
     "metadata": {},
     "output_type": "display_data"
    }
   ],
   "source": [
    "plt.plot(lossi)"
   ]
  },
  {
   "cell_type": "code",
   "execution_count": 56,
   "metadata": {},
   "outputs": [
    {
     "name": "stdout",
     "output_type": "stream",
     "text": [
      "train 2.1318764686584473\n",
      "val 2.1838724613189697\n"
     ]
    }
   ],
   "source": [
    "@torch.no_grad()\n",
    "def split_loss(split):\n",
    "    x,y = {\n",
    "        'train': (x_train, y_train),\n",
    "        'val': (x_val, y_val),\n",
    "        'test': (x_test, y_test)\n",
    "    }[split]\n",
    "    emb = C[x]\n",
    "    embcat = emb.view(emb.size(0), -1)\n",
    "    h = torch.tanh(embcat @ W1 + B1)\n",
    "    logits = h @ W2 + B2\n",
    "    loss = F.cross_entropy(logits, y)\n",
    "    print(split, loss.item())\n",
    "    \n",
    "split_loss('train')\n",
    "split_loss('val')\n",
    "    "
   ]
  },
  {
   "cell_type": "markdown",
   "metadata": {},
   "source": [
    "initial losses after changing the initialization\n",
    "train 2.180690050125122\n",
    "val 2.2376396656036377\n",
    "\n",
    "loss after fixing tanh activation\n",
    "train 2.1318764686584473\n",
    "val 2.1838724613189697\n",
    "\n"
   ]
  }
 ],
 "metadata": {
  "kernelspec": {
   "display_name": "a0",
   "language": "python",
   "name": "python3"
  },
  "language_info": {
   "codemirror_mode": {
    "name": "ipython",
    "version": 3
   },
   "file_extension": ".py",
   "mimetype": "text/x-python",
   "name": "python",
   "nbconvert_exporter": "python",
   "pygments_lexer": "ipython3",
   "version": "3.12.7"
  }
 },
 "nbformat": 4,
 "nbformat_minor": 2
}
