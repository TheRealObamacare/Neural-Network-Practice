{
 "cells": [
  {
   "cell_type": "code",
   "execution_count": 34,
   "metadata": {},
   "outputs": [],
   "source": [
    "import torch\n",
    "import torch.nn.functional as F\n",
    "import matplotlib.pyplot as plt\n",
    "%matplotlib inline"
   ]
  },
  {
   "cell_type": "code",
   "execution_count": 35,
   "metadata": {},
   "outputs": [],
   "source": [
    "words = open('names.txt', 'r').read().splitlines()"
   ]
  },
  {
   "cell_type": "code",
   "execution_count": 36,
   "metadata": {},
   "outputs": [
    {
     "data": {
      "text/plain": [
       "['emma', 'olivia', 'ava', 'isabella', 'sophia', 'charlotte', 'mia', 'amelia']"
      ]
     },
     "execution_count": 36,
     "metadata": {},
     "output_type": "execute_result"
    }
   ],
   "source": [
    "words[:8]"
   ]
  },
  {
   "cell_type": "code",
   "execution_count": 37,
   "metadata": {},
   "outputs": [
    {
     "data": {
      "text/plain": [
       "32033"
      ]
     },
     "execution_count": 37,
     "metadata": {},
     "output_type": "execute_result"
    }
   ],
   "source": [
    "len(words)"
   ]
  },
  {
   "cell_type": "code",
   "execution_count": 38,
   "metadata": {},
   "outputs": [
    {
     "name": "stdout",
     "output_type": "stream",
     "text": [
      "{1: 'a', 2: 'b', 3: 'c', 4: 'd', 5: 'e', 6: 'f', 7: 'g', 8: 'h', 9: 'i', 10: 'j', 11: 'k', 12: 'l', 13: 'm', 14: 'n', 15: 'o', 16: 'p', 17: 'q', 18: 'r', 19: 's', 20: 't', 21: 'u', 22: 'v', 23: 'w', 24: 'x', 25: 'y', 26: 'z', 0: '.'}\n"
     ]
    }
   ],
   "source": [
    "chars = sorted(list(set(''.join(words))))\n",
    "stoi = {ch: i+1 for i, ch in enumerate(chars)}\n",
    "stoi['.'] = 0\n",
    "itos = {i: ch for ch, i in stoi.items()}\n",
    "print(itos)"
   ]
  },
  {
   "cell_type": "code",
   "execution_count": 39,
   "metadata": {},
   "outputs": [
    {
     "name": "stdout",
     "output_type": "stream",
     "text": [
      "torch.Size([182625, 3]) torch.Size([182625])\n",
      "torch.Size([22655, 3]) torch.Size([22655])\n",
      "torch.Size([22866, 3]) torch.Size([22866])\n"
     ]
    }
   ],
   "source": [
    "def buildDataset(words):\n",
    "    block_size = 3\n",
    "    x, y = [], []\n",
    "    for w in words:\n",
    "        #print(w)\n",
    "        context = [0] * block_size\n",
    "        for ch in w + '.':\n",
    "            ix = stoi[ch]\n",
    "            x.append(context)\n",
    "            y.append(ix)\n",
    "            #print(''.join ([itos[i] for i in context]), '-->', itos[ix])\n",
    "            context = context[1:] + [ix]\n",
    "            \n",
    "    x = torch.tensor(x)\n",
    "    y = torch.tensor(y)\n",
    "    print(x.shape, y.shape)\n",
    "    return x, y\n",
    "import random\n",
    "random.seed(42)\n",
    "random.shuffle(words)\n",
    "n1 = int (len(words)*.8)    \n",
    "n2 = int (len(words)*.9)    \n",
    "x_train, y_train = buildDataset(words[:n1])\n",
    "x_val, y_val = buildDataset(words[n1:n2])\n",
    "x_test, y_test = buildDataset(words[n2:])\n"
   ]
  },
  {
   "cell_type": "code",
   "execution_count": 47,
   "metadata": {},
   "outputs": [],
   "source": [
    "n_embd = 10\n",
    "n_hidden = 200\n",
    "block_size = 3\n",
    "\n",
    "C = torch.randn(len(itos), n_embd)\n",
    "W1 = torch.randn(n_embd * block_size, n_hidden) * .1\n",
    "B1 = torch.randn(n_hidden) * 0.01\n",
    "W2 = torch.randn(n_hidden, len(itos)) * .01 # To initialize the weights to be closer together\n",
    "B2 = torch.randn(len(itos)) * 0.01\n",
    "params = [C, W1, B1, W2, B2]\n",
    "for p in params:\n",
    "    p.requires_grad = True"
   ]
  },
  {
   "cell_type": "code",
   "execution_count": 48,
   "metadata": {},
   "outputs": [
    {
     "name": "stdout",
     "output_type": "stream",
     "text": [
      "0 3.269150972366333\n",
      "1000 2.731537103652954\n",
      "2000 2.2414350509643555\n",
      "3000 2.0754504203796387\n",
      "4000 2.357734203338623\n",
      "5000 1.7634773254394531\n",
      "6000 2.0807013511657715\n",
      "7000 2.515000104904175\n",
      "8000 2.588344097137451\n",
      "9000 2.376605749130249\n",
      "10000 2.1595780849456787\n",
      "11000 2.8231000900268555\n",
      "12000 2.1827001571655273\n",
      "13000 1.8146672248840332\n",
      "14000 2.314241886138916\n",
      "15000 2.1556754112243652\n",
      "16000 2.6892058849334717\n",
      "17000 2.189413547515869\n",
      "18000 2.4368460178375244\n",
      "19000 2.5793159008026123\n",
      "20000 2.3439536094665527\n",
      "21000 2.5654103755950928\n",
      "22000 1.717546820640564\n",
      "23000 2.5737595558166504\n",
      "24000 2.7590928077697754\n",
      "25000 2.1324706077575684\n",
      "26000 2.156327724456787\n",
      "27000 2.028007984161377\n",
      "28000 2.847782611846924\n",
      "29000 2.3372433185577393\n",
      "30000 2.061436891555786\n",
      "31000 2.1461715698242188\n",
      "32000 2.1046109199523926\n",
      "33000 2.751016139984131\n",
      "34000 2.275503158569336\n",
      "35000 2.6194541454315186\n",
      "36000 2.1331489086151123\n",
      "37000 2.1971242427825928\n",
      "38000 2.3704659938812256\n",
      "39000 2.1721763610839844\n",
      "40000 1.9727822542190552\n",
      "41000 2.4699442386627197\n",
      "42000 2.151582717895508\n",
      "43000 2.266162157058716\n",
      "44000 1.9442764520645142\n",
      "45000 2.1231536865234375\n",
      "46000 2.399400472640991\n",
      "47000 2.0297365188598633\n",
      "48000 2.4223291873931885\n",
      "49000 2.481433868408203\n",
      "50000 2.363445520401001\n",
      "51000 1.9222629070281982\n",
      "52000 1.9602887630462646\n",
      "53000 2.1588971614837646\n",
      "54000 2.2643024921417236\n",
      "55000 2.432227611541748\n",
      "56000 2.3512349128723145\n",
      "57000 2.242007255554199\n",
      "58000 2.4568562507629395\n",
      "59000 2.247236967086792\n",
      "60000 1.857743263244629\n",
      "61000 2.354746103286743\n",
      "62000 2.3001911640167236\n",
      "63000 2.095336675643921\n",
      "64000 2.5679359436035156\n",
      "65000 2.140401840209961\n",
      "66000 2.123530864715576\n",
      "67000 2.659688711166382\n",
      "68000 2.600133180618286\n",
      "69000 2.2292258739471436\n",
      "70000 2.0936803817749023\n",
      "71000 2.299926280975342\n",
      "72000 1.9566165208816528\n",
      "73000 1.8565424680709839\n",
      "74000 1.922188639640808\n",
      "75000 2.247709035873413\n",
      "76000 2.035177230834961\n",
      "77000 2.510087728500366\n",
      "78000 2.079551935195923\n",
      "79000 1.7672463655471802\n",
      "80000 2.3052525520324707\n",
      "81000 2.239192008972168\n",
      "82000 1.964981198310852\n",
      "83000 2.0899176597595215\n",
      "84000 2.187586784362793\n",
      "85000 2.101933479309082\n",
      "86000 2.3003697395324707\n",
      "87000 2.252488613128662\n",
      "88000 1.9080696105957031\n",
      "89000 2.2637760639190674\n",
      "90000 2.1723320484161377\n",
      "91000 1.9277714490890503\n",
      "92000 2.16784930229187\n",
      "93000 1.808214545249939\n",
      "94000 2.280200719833374\n",
      "95000 2.429502248764038\n",
      "96000 2.537081718444824\n",
      "97000 2.291848659515381\n",
      "98000 2.117462635040283\n",
      "99000 2.187492847442627\n"
     ]
    }
   ],
   "source": [
    "max_steps = 100000\n",
    "batch_size = 32\n",
    "lossi = []\n",
    "\n",
    "for i in range(max_steps):\n",
    "    ix = torch.randint(0, len(x_train), (batch_size,))\n",
    "    Xb = x_train[ix]\n",
    "    Yb = y_train[ix]\n",
    "    \n",
    "    emb = C[Xb]\n",
    "    embcat = emb.view(emb.size(0), -1)\n",
    "    hpreact = embcat @ W1 + B1\n",
    "    h = hpreact.tanh()\n",
    "    logits = h @ W2 + B2\n",
    "    loss = F.cross_entropy(logits, Yb)\n",
    "    \n",
    "    for p in params:\n",
    "        p.grad = None\n",
    "    loss.backward()\n",
    "    \n",
    "    lr = .1\n",
    "    for p in params:\n",
    "        p.data -= lr * p.grad\n",
    "    \n",
    "        \n",
    "    if i % 1000 == 0:\n",
    "        print(i, loss.item())\n",
    "        lr *= .98\n",
    "    lossi.append(loss.log10().item())"
   ]
  },
  {
   "cell_type": "code",
   "execution_count": 49,
   "metadata": {},
   "outputs": [
    {
     "data": {
      "text/plain": [
       "tensor(3.2958)"
      ]
     },
     "execution_count": 49,
     "metadata": {},
     "output_type": "execute_result"
    }
   ],
   "source": [
    "-torch.tensor(1/27.0).log() # expected initial loss, but it is 27 right now because the initial probabilities are not uniform"
   ]
  },
  {
   "cell_type": "code",
   "execution_count": 50,
   "metadata": {},
   "outputs": [
    {
     "data": {
      "text/plain": [
       "[<matplotlib.lines.Line2D at 0x260b09a3950>]"
      ]
     },
     "execution_count": 50,
     "metadata": {},
     "output_type": "execute_result"
    },
    {
     "data": {
      "image/png": "[encoded data removed]",
      "text/plain": [
       "<Figure size 640x480 with 1 Axes>"
      ]
     },
     "metadata": {},
     "output_type": "display_data"
    }
   ],
   "source": [
    "plt.plot(lossi)"
   ]
  },
  {
   "cell_type": "code",
   "execution_count": 51,
   "metadata": {},
   "outputs": [
    {
     "name": "stdout",
     "output_type": "stream",
     "text": [
      "train 2.180690050125122\n",
      "val 2.2376396656036377\n"
     ]
    }
   ],
   "source": [
    "@torch.no_grad()\n",
    "def split_loss(split):\n",
    "    x,y = {\n",
    "        'train': (x_train, y_train),\n",
    "        'val': (x_val, y_val),\n",
    "        'test': (x_test, y_test)\n",
    "    }[split]\n",
    "    emb = C[x]\n",
    "    embcat = emb.view(emb.size(0), -1)\n",
    "    h = torch.tanh(embcat @ W1 + B1)\n",
    "    logits = h @ W2 + B2\n",
    "    loss = F.cross_entropy(logits, y)\n",
    "    print(split, loss.item())\n",
    "    \n",
    "split_loss('train')\n",
    "split_loss('val')\n",
    "    "
   ]
  }
 ],
 "metadata": {
  "kernelspec": {
   "display_name": "a0",
   "language": "python",
   "name": "python3"
  },
  "language_info": {
   "codemirror_mode": {
    "name": "ipython",
    "version": 3
   },
   "file_extension": ".py",
   "mimetype": "text/x-python",
   "name": "python",
   "nbconvert_exporter": "python",
   "pygments_lexer": "ipython3",
   "version": "3.12.7"
  }
 },
 "nbformat": 4,
 "nbformat_minor": 2
}
