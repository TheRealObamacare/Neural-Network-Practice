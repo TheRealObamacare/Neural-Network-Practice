{
 "cells": [
  {
   "cell_type": "code",
   "execution_count": 153,
   "metadata": {},
   "outputs": [],
   "source": [
    "import torch\n",
    "import torch.nn.functional as F\n",
    "import matplotlib.pyplot as plt\n",
    "%matplotlib inline"
   ]
  },
  {
   "cell_type": "code",
   "execution_count": 154,
   "metadata": {},
   "outputs": [],
   "source": [
    "words = open('names.txt', 'r').read().splitlines()"
   ]
  },
  {
   "cell_type": "code",
   "execution_count": 155,
   "metadata": {},
   "outputs": [
    {
     "data": {
      "text/plain": [
       "['emma', 'olivia', 'ava', 'isabella', 'sophia', 'charlotte', 'mia', 'amelia']"
      ]
     },
     "execution_count": 155,
     "metadata": {},
     "output_type": "execute_result"
    }
   ],
   "source": [
    "words[:8]"
   ]
  },
  {
   "cell_type": "code",
   "execution_count": 156,
   "metadata": {},
   "outputs": [
    {
     "data": {
      "text/plain": [
       "32033"
      ]
     },
     "execution_count": 156,
     "metadata": {},
     "output_type": "execute_result"
    }
   ],
   "source": [
    "len(words)"
   ]
  },
  {
   "cell_type": "code",
   "execution_count": 157,
   "metadata": {},
   "outputs": [
    {
     "name": "stdout",
     "output_type": "stream",
     "text": [
      "{1: 'a', 2: 'b', 3: 'c', 4: 'd', 5: 'e', 6: 'f', 7: 'g', 8: 'h', 9: 'i', 10: 'j', 11: 'k', 12: 'l', 13: 'm', 14: 'n', 15: 'o', 16: 'p', 17: 'q', 18: 'r', 19: 's', 20: 't', 21: 'u', 22: 'v', 23: 'w', 24: 'x', 25: 'y', 26: 'z', 0: '.'}\n"
     ]
    }
   ],
   "source": [
    "chars = sorted(list(set(''.join(words))))\n",
    "stoi = {ch: i+1 for i, ch in enumerate(chars)}\n",
    "stoi['.'] = 0\n",
    "itos = {i: ch for ch, i in stoi.items()}\n",
    "print(itos)"
   ]
  },
  {
   "cell_type": "code",
   "execution_count": 158,
   "metadata": {},
   "outputs": [
    {
     "name": "stdout",
     "output_type": "stream",
     "text": [
      "torch.Size([182625, 3]) torch.Size([182625])\n",
      "torch.Size([22655, 3]) torch.Size([22655])\n",
      "torch.Size([22866, 3]) torch.Size([22866])\n"
     ]
    }
   ],
   "source": [
    "def buildDataset(words):\n",
    "    block_size = 3\n",
    "    x, y = [], []\n",
    "    for w in words:\n",
    "        #print(w)\n",
    "        context = [0] * block_size\n",
    "        for ch in w + '.':\n",
    "            ix = stoi[ch]\n",
    "            x.append(context)\n",
    "            y.append(ix)\n",
    "            #print(''.join ([itos[i] for i in context]), '-->', itos[ix])\n",
    "            context = context[1:] + [ix]\n",
    "            \n",
    "    x = torch.tensor(x)\n",
    "    y = torch.tensor(y)\n",
    "    print(x.shape, y.shape)\n",
    "    return x, y\n",
    "import random\n",
    "random.seed(42)\n",
    "random.shuffle(words)\n",
    "n1 = int (len(words)*.8)    \n",
    "n2 = int (len(words)*.9)    \n",
    "x_train, y_train = buildDataset(words[:n1])\n",
    "x_val, y_val = buildDataset(words[n1:n2])\n",
    "x_test, y_test = buildDataset(words[n2:])\n"
   ]
  },
  {
   "cell_type": "code",
   "execution_count": 159,
   "metadata": {},
   "outputs": [],
   "source": [
    "n_embd = 10\n",
    "n_hidden = 200\n",
    "block_size = 3\n",
    "\n",
    "C = torch.randn(len(itos), n_embd)\n",
    "W1 = torch.randn(n_embd * block_size, n_hidden) * (5/3)/(n_embd * block_size)**.5     #* .1\n",
    "B1 = torch.randn(n_hidden) * 0.01\n",
    "W2 = torch.randn(n_hidden, len(itos)) * .01 # To initialize the weights to be closer together\n",
    "B2 = torch.randn(len(itos)) * 0.01\n",
    "\n",
    "bngain = torch.ones(1, n_hidden)\n",
    "bnbias = torch.zeros(1, n_hidden)\n",
    "\n",
    "bnmean_running = torch.zeros(1, n_hidden)\n",
    "bnstd_running = torch.ones(1, n_hidden)\n",
    "\n",
    "params = [C, W1, B1, W2, B2, bngain, bnbias]\n",
    "for p in params:\n",
    "    p.requires_grad = True"
   ]
  },
  {
   "cell_type": "code",
   "execution_count": 160,
   "metadata": {},
   "outputs": [
    {
     "name": "stdout",
     "output_type": "stream",
     "text": [
      "0 3.3012149333953857\n",
      "10000 1.9388760328292847\n",
      "20000 1.7022526264190674\n",
      "30000 2.4514966011047363\n",
      "40000 2.4578118324279785\n",
      "50000 1.9969226121902466\n",
      "60000 2.12903094291687\n",
      "70000 2.02392840385437\n",
      "80000 2.2089011669158936\n",
      "90000 1.747226595878601\n",
      "100000 2.1466987133026123\n",
      "110000 2.1375155448913574\n",
      "120000 2.2463881969451904\n",
      "130000 1.9608255624771118\n",
      "140000 2.0266191959381104\n",
      "150000 2.42997407913208\n",
      "160000 2.132502317428589\n",
      "170000 2.483680486679077\n",
      "180000 2.1629300117492676\n",
      "190000 1.9989749193191528\n"
     ]
    }
   ],
   "source": [
    "max_steps = 200000\n",
    "batch_size = 32\n",
    "lossi = []\n",
    "\n",
    "for i in range(max_steps):\n",
    "    ix = torch.randint(0, len(x_train), (batch_size,))\n",
    "    Xb = x_train[ix]\n",
    "    Yb = y_train[ix]\n",
    "    \n",
    "    emb = C[Xb]\n",
    "    embcat = emb.view(emb.shape[0], -1)\n",
    "    hpreact = embcat @ W1 + B1\n",
    "    bnmeani = hpreact.mean(0, keepdim= True)\n",
    "    bnstdi = hpreact.std(0, keepdim= True)\n",
    "    hpreact = bngain*(hpreact - bnmeani) / (bnstdi + 1e-5) + bnbias # Batch normalization, to avoid tanh saturation in an easier way\n",
    "    \n",
    "    with torch.no_grad():\n",
    "        bnmean_running = .999 * bnmean_running + .001 * bnmeani\n",
    "        bnstd_running = .999 * bnstd_running + .001 * bnstdi    \n",
    "    \n",
    "    h = hpreact.tanh()\n",
    "    logits = h @ W2 + B2\n",
    "    loss = F.cross_entropy(logits, Yb)\n",
    "    \n",
    "    \n",
    "    for p in params:\n",
    "        p.grad = None\n",
    "    loss.backward()\n",
    "    \n",
    "    lr = .1\n",
    "    for p in params:\n",
    "        p.data += -lr * p.grad\n",
    "    \n",
    "        \n",
    "    if i % 10000 == 0:\n",
    "        print(i, loss.item())\n",
    "        lr *= .98\n",
    "    lossi.append(loss.log10().item())\n"
   ]
  },
  {
   "cell_type": "code",
   "execution_count": 161,
   "metadata": {},
   "outputs": [
    {
     "data": {
      "text/plain": [
       "tensor(3.2958)"
      ]
     },
     "execution_count": 161,
     "metadata": {},
     "output_type": "execute_result"
    }
   ],
   "source": [
    "-torch.tensor(1/27.0).log() # expected initial loss, but it is 27 right now because the initial probabilities are not uniform"
   ]
  },
  {
   "cell_type": "code",
   "execution_count": 162,
   "metadata": {},
   "outputs": [
    {
     "data": {
      "text/plain": [
       "[<matplotlib.lines.Line2D at 0x260b0e20e00>]"
      ]
     },
     "execution_count": 162,
     "metadata": {},
     "output_type": "execute_result"
    },
    {
     "data": {
      "image/png": "[encoded data removed]",
      "text/plain": [
       "<Figure size 640x480 with 1 Axes>"
      ]
     },
     "metadata": {},
     "output_type": "display_data"
    }
   ],
   "source": [
    "plt.plot(lossi)"
   ]
  },
  {
   "cell_type": "code",
   "execution_count": 163,
   "metadata": {},
   "outputs": [],
   "source": [
    "with torch.no_grad():\n",
    "    emb = C[x_train]\n",
    "    embcat = emb.view(emb.size(0), -1)\n",
    "    hpreact = embcat @ W1 + B1\n",
    "    bnmean = hpreact.mean(0, keepdim= True)\n",
    "    bnstd = hpreact.std(0, keepdim= True)"
   ]
  },
  {
   "cell_type": "code",
   "execution_count": 164,
   "metadata": {},
   "outputs": [
    {
     "name": "stdout",
     "output_type": "stream",
     "text": [
      "train 2.1210100650787354\n",
      "val 2.166093587875366\n"
     ]
    }
   ],
   "source": [
    "@torch.no_grad()\n",
    "def split_loss(split):\n",
    "    x, y = {\n",
    "        'train': (x_train, y_train),\n",
    "        'val': (x_val, y_val),\n",
    "        'test': (x_test, y_test)\n",
    "    }[split]\n",
    "    emb = C[x]\n",
    "    embcat = emb.view(emb.size(0), -1)\n",
    "    hpreact = embcat @ W1 + B1\n",
    "    hpreact = bngain * (hpreact - bnmean) / bnstd + bnbias\n",
    "    h = torch.tanh(hpreact)\n",
    "    logits = h @ W2 + B2\n",
    "    loss = F.cross_entropy(logits, y)\n",
    "    print(split, loss.item())\n",
    "\n",
    "split_loss('train')\n",
    "split_loss('val')\n",
    "    "
   ]
  },
  {
   "cell_type": "markdown",
   "metadata": {},
   "source": [
    "initial losses after changing the initialization\n",
    "train 2.180690050125122\n",
    "val 2.2376396656036377\n",
    "\n",
    "loss after fixing tanh activation\n",
    "train 2.1318764686584473\n",
    "val 2.1838724613189697\n",
    "\n",
    "After batch norm\n",
    "train 2.126826286315918\n",
    "val 2.1739890575408936"
   ]
  },
  {
   "cell_type": "code",
   "execution_count": 165,
   "metadata": {},
   "outputs": [],
   "source": [
    "#Pytorchifying the code\n",
    "n_embd = 10\n",
    "n_hidden = 100\n",
    "C = torch.randn(len(itos), n_embd)\n",
    "layers = torch.nn.Sequential(\n",
    "    torch.nn.Linear(n_embd * block_size, n_hidden),\n",
    "    torch.nn.Tanh(),\n",
    "    torch.nn.Linear(n_hidden, n_hidden),\n",
    "    torch.nn.Tanh(),\n",
    "    torch.nn.Linear(n_hidden, n_hidden),\n",
    "    torch.nn.Tanh(),\n",
    "    torch.nn.Linear(n_hidden, n_hidden),\n",
    "    torch.nn.Tanh(),\n",
    "    torch.nn.Linear(n_hidden, n_hidden),\n",
    "    torch.nn.Tanh(),\n",
    "    torch.nn.Linear(n_hidden, len(itos))\n",
    ")\n",
    "\n",
    "params = [C] + [p for layer in layers for p in layer.parameters()]\n",
    "for p in params:\n",
    "    p.requires_grad = True    "
   ]
  }
 ],
 "metadata": {
  "kernelspec": {
   "display_name": "a0",
   "language": "python",
   "name": "python3"
  },
  "language_info": {
   "codemirror_mode": {
    "name": "ipython",
    "version": 3
   },
   "file_extension": ".py",
   "mimetype": "text/x-python",
   "name": "python",
   "nbconvert_exporter": "python",
   "pygments_lexer": "ipython3",
   "version": "3.12.7"
  }
 },
 "nbformat": 4,
 "nbformat_minor": 2
}
