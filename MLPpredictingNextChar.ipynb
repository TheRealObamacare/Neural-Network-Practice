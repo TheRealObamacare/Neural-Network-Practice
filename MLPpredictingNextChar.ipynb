{
 "cells": [
  {
   "cell_type": "code",
   "execution_count": 2,
   "metadata": {},
   "outputs": [],
   "source": [
    "import torch\n",
    "import torch.nn.functional as F\n",
    "import matplotlib.pyplot as plt\n",
    "%matplotlib inline"
   ]
  },
  {
   "cell_type": "code",
   "execution_count": 3,
   "metadata": {},
   "outputs": [],
   "source": [
    "words = open('names.txt', 'r').read().splitlines()"
   ]
  },
  {
   "cell_type": "code",
   "execution_count": 4,
   "metadata": {},
   "outputs": [
    {
     "data": {
      "text/plain": [
       "['emma', 'olivia', 'ava', 'isabella', 'sophia', 'charlotte', 'mia', 'amelia']"
      ]
     },
     "execution_count": 4,
     "metadata": {},
     "output_type": "execute_result"
    }
   ],
   "source": [
    "words[:8]"
   ]
  },
  {
   "cell_type": "code",
   "execution_count": 5,
   "metadata": {},
   "outputs": [
    {
     "data": {
      "text/plain": [
       "32033"
      ]
     },
     "execution_count": 5,
     "metadata": {},
     "output_type": "execute_result"
    }
   ],
   "source": [
    "len(words)"
   ]
  },
  {
   "cell_type": "code",
   "execution_count": 6,
   "metadata": {},
   "outputs": [
    {
     "name": "stdout",
     "output_type": "stream",
     "text": [
      "{1: 'a', 2: 'b', 3: 'c', 4: 'd', 5: 'e', 6: 'f', 7: 'g', 8: 'h', 9: 'i', 10: 'j', 11: 'k', 12: 'l', 13: 'm', 14: 'n', 15: 'o', 16: 'p', 17: 'q', 18: 'r', 19: 's', 20: 't', 21: 'u', 22: 'v', 23: 'w', 24: 'x', 25: 'y', 26: 'z', 0: '.'}\n"
     ]
    }
   ],
   "source": [
    "chars = sorted(list(set(''.join(words))))\n",
    "stoi = {ch: i+1 for i, ch in enumerate(chars)}\n",
    "stoi['.'] = 0\n",
    "itos = {i: ch for ch, i in stoi.items()}\n",
    "print(itos)"
   ]
  },
  {
   "cell_type": "code",
   "execution_count": 7,
   "metadata": {},
   "outputs": [],
   "source": [
    "block_size = 3\n",
    "x, y = [], []\n",
    "for w in words:\n",
    "    #print(w)\n",
    "    context = [0] * block_size\n",
    "    for ch in w + '.':\n",
    "        ix = stoi[ch]\n",
    "        x.append(context)\n",
    "        y.append(ix)\n",
    "        #print(''.join ([itos[i] for i in context]), '-->', itos[ix])\n",
    "        context = context[1:] + [ix]\n",
    "        \n",
    "x = torch.tensor(x)\n",
    "y = torch.tensor(y)"
   ]
  },
  {
   "cell_type": "code",
   "execution_count": 8,
   "metadata": {},
   "outputs": [
    {
     "name": "stdout",
     "output_type": "stream",
     "text": [
      "torch.Size([182625, 3]) torch.Size([182625])\n",
      "torch.Size([22655, 3]) torch.Size([22655])\n",
      "torch.Size([22866, 3]) torch.Size([22866])\n"
     ]
    }
   ],
   "source": [
    "def buildDataset(words):\n",
    "    block_size = 3\n",
    "    x, y = [], []\n",
    "    for w in words:\n",
    "        #print(w)\n",
    "        context = [0] * block_size\n",
    "        for ch in w + '.':\n",
    "            ix = stoi[ch]\n",
    "            x.append(context)\n",
    "            y.append(ix)\n",
    "            #print(''.join ([itos[i] for i in context]), '-->', itos[ix])\n",
    "            context = context[1:] + [ix]\n",
    "            \n",
    "    x = torch.tensor(x)\n",
    "    y = torch.tensor(y)\n",
    "    print(x.shape, y.shape)\n",
    "    return x, y\n",
    "import random\n",
    "random.seed(42)\n",
    "random.shuffle(words)\n",
    "n1 = int (len(words)*.8)    \n",
    "n2 = int (len(words)*.9)    \n",
    "x_train, y_train = buildDataset(words[:n1])\n",
    "x_val, y_val = buildDataset(words[n1:n2])\n",
    "x_test, y_test = buildDataset(words[n2:])\n"
   ]
  },
  {
   "cell_type": "code",
   "execution_count": 9,
   "metadata": {},
   "outputs": [
    {
     "data": {
      "text/plain": [
       "(torch.Size([182625, 3]), torch.Size([182625]))"
      ]
     },
     "execution_count": 9,
     "metadata": {},
     "output_type": "execute_result"
    }
   ],
   "source": [
    "x_train.shape, y_train.shape"
   ]
  },
  {
   "cell_type": "code",
   "execution_count": 10,
   "metadata": {},
   "outputs": [
    {
     "data": {
      "text/plain": [
       "tensor([[-4.6859e-01, -1.6725e+00, -2.0631e-01,  8.8021e-01, -6.5871e-01,\n",
       "          1.2206e+00, -9.5094e-01, -2.7946e-01, -7.9360e-01,  7.2353e-01],\n",
       "        [-2.3750e-01,  1.1971e+00, -2.4733e-01,  1.3999e+00, -5.2490e-01,\n",
       "          9.7367e-01,  1.0314e+00,  7.5817e-01, -4.1224e-01,  1.5114e-01],\n",
       "        [-1.1023e+00,  3.6111e-01,  5.9283e-01, -1.3041e-01, -4.2136e-01,\n",
       "          7.9122e-01,  1.3297e+00, -7.6049e-02,  9.5189e-01,  7.7337e-01],\n",
       "        [-1.1112e+00, -3.9367e-01, -1.4055e+00,  1.2108e-01, -3.7363e-01,\n",
       "          2.8200e-01, -2.8794e-01,  1.0377e+00,  9.6221e-01,  5.5914e-01],\n",
       "        [ 9.7888e-01, -5.3051e-01,  3.4911e-01,  1.6914e+00,  7.2478e-01,\n",
       "         -1.2905e+00,  4.4273e-01,  1.5042e+00, -2.0737e-01, -2.4491e-04],\n",
       "        [-3.3851e-01,  1.3120e+00,  4.7923e-01, -7.3959e-01,  5.8930e-02,\n",
       "          2.9484e-01, -6.8157e-01, -4.0285e-01,  1.6118e+00,  4.7010e-01],\n",
       "        [ 5.6661e-01, -4.7668e-01, -7.0419e-01, -8.1663e-01,  3.4745e-01,\n",
       "          1.4369e+00,  7.5175e-01,  8.8516e-01, -5.3157e-01,  2.1641e+00],\n",
       "        [-3.5574e-01, -9.5088e-02,  5.9925e-01,  9.2725e-01,  3.0482e-01,\n",
       "         -7.0703e-01,  3.4678e-01,  1.3406e+00,  2.7458e-01, -2.2907e+00],\n",
       "        [ 2.1857e+00, -4.3983e-01, -5.6390e-01,  1.5266e+00,  1.9967e-01,\n",
       "         -1.1491e+00, -3.8027e-01,  3.3171e-01, -3.7969e-01,  1.0044e-01],\n",
       "        [ 8.4277e-01,  1.5365e-02, -1.5535e+00,  2.9746e-01, -1.9980e-01,\n",
       "          1.9120e-01, -2.3122e-01, -1.9982e+00, -6.8447e-01,  1.3779e+00],\n",
       "        [ 1.2962e+00, -8.8082e-01,  2.3681e-01,  1.5645e-01,  1.0672e+00,\n",
       "          3.5618e-01, -1.4099e-01,  9.0856e-01,  5.1861e-02, -3.4455e-01],\n",
       "        [ 1.5308e+00,  1.2070e-01,  1.0119e+00,  2.5727e-01, -5.4181e-01,\n",
       "          6.4248e-01, -4.5525e-01,  5.6000e-02,  1.1502e+00, -4.7572e-01],\n",
       "        [-7.1026e-01, -7.3174e-01,  7.1544e-01,  1.4974e-01,  2.9012e-01,\n",
       "         -2.4067e+00,  2.4534e-01,  2.9075e-03,  1.3701e+00, -2.1780e-01],\n",
       "        [ 3.7300e-01,  1.4450e+00, -1.6234e+00, -2.7596e-01, -2.3567e-01,\n",
       "          1.4051e+00, -4.4128e-02, -2.4180e-01, -8.7890e-02,  6.3503e-01],\n",
       "        [-8.4381e-01, -8.9266e-01,  4.2973e-01, -1.0243e+00, -9.0258e-01,\n",
       "          9.1359e-01,  9.0722e-01, -4.3530e-01, -1.4407e+00,  7.1859e-02],\n",
       "        [-9.3114e-01,  7.9876e-01,  2.5523e-01,  8.1467e-01,  2.7426e-01,\n",
       "         -3.1855e-01, -3.0829e-01,  2.2168e+00,  8.6203e-01, -7.9249e-01],\n",
       "        [-2.0128e+00, -5.9693e-02, -1.6454e+00, -2.3041e-01,  4.1945e-01,\n",
       "         -1.6825e+00,  1.2645e+00, -4.0940e-01, -2.0667e+00, -1.3287e+00],\n",
       "        [ 3.4494e-01, -8.1212e-01, -8.2361e-01, -8.4801e-02, -5.6966e-01,\n",
       "          2.8358e-01, -9.8575e-01, -1.8822e+00,  1.4758e+00, -1.1376e+00],\n",
       "        [ 1.4212e+00, -4.3297e-01,  2.1013e-01, -5.9280e-01,  1.2576e+00,\n",
       "         -2.8159e-01,  1.1265e-01, -7.7920e-01,  9.9845e-01, -5.2683e-01],\n",
       "        [-2.4596e-01, -7.2803e-01,  5.4961e-01, -3.6637e-01,  1.1031e+00,\n",
       "          1.1750e+00,  1.7009e-01, -2.1728e+00, -1.0978e+00,  6.0694e-01],\n",
       "        [ 1.9708e-01,  9.6761e-01,  1.2091e+00, -1.4684e+00, -5.7983e-01,\n",
       "         -8.3204e-01, -4.8775e-01, -2.2631e+00, -3.6549e-01,  5.2254e-02],\n",
       "        [-1.7887e+00, -2.6495e-01,  5.9356e-01, -3.0737e-01,  1.3156e+00,\n",
       "          2.6112e-01,  1.0231e+00,  6.3987e-01,  9.1229e-01,  1.3339e+00],\n",
       "        [-1.2211e-01, -2.0333e+00,  3.4788e-01,  1.9133e+00, -4.0566e-01,\n",
       "          8.7805e-01, -8.4262e-01,  2.2149e+00, -9.2506e-01,  8.3621e-01],\n",
       "        [ 7.9989e-02,  1.5601e+00,  5.6551e-01, -1.1372e+00, -2.4251e-01,\n",
       "         -4.1863e-02, -2.5983e-01, -2.0006e+00, -1.0577e+00,  9.6627e-01],\n",
       "        [-6.3074e-01,  8.1076e-01, -1.2085e+00, -9.2772e-03, -6.7940e-01,\n",
       "         -2.5094e-01, -1.8415e-01, -5.2962e-01, -1.6871e-01,  2.8059e-01],\n",
       "        [ 1.5731e+00, -7.7907e-02, -1.9965e-01, -3.0976e-01,  1.0411e+00,\n",
       "         -1.3218e+00, -3.3188e-01,  3.4125e-01, -3.1247e-02,  1.8473e+00],\n",
       "        [-1.2397e+00, -1.0136e+00, -4.8575e-01, -5.0841e-01,  1.0589e-03,\n",
       "         -1.7570e+00,  4.2755e-01, -9.8609e-01,  1.2605e+00, -1.0064e+00]])"
      ]
     },
     "execution_count": 10,
     "metadata": {},
     "output_type": "execute_result"
    }
   ],
   "source": [
    "C = torch.randn(27,10)\n",
    "C"
   ]
  },
  {
   "cell_type": "code",
   "execution_count": 11,
   "metadata": {},
   "outputs": [
    {
     "data": {
      "text/plain": [
       "tensor([[-0.3557, -0.0951,  0.5992,  0.9273,  0.3048, -0.7070,  0.3468,  1.3406,\n",
       "          0.2746, -2.2907],\n",
       "        [-0.3385,  1.3120,  0.4792, -0.7396,  0.0589,  0.2948, -0.6816, -0.4028,\n",
       "          1.6118,  0.4701],\n",
       "        [ 0.5666, -0.4767, -0.7042, -0.8166,  0.3475,  1.4369,  0.7518,  0.8852,\n",
       "         -0.5316,  2.1641],\n",
       "        [-0.3557, -0.0951,  0.5992,  0.9273,  0.3048, -0.7070,  0.3468,  1.3406,\n",
       "          0.2746, -2.2907]])"
      ]
     },
     "execution_count": 11,
     "metadata": {},
     "output_type": "execute_result"
    }
   ],
   "source": [
    "C[[7, 5, 6, 7]]"
   ]
  },
  {
   "cell_type": "code",
   "execution_count": 12,
   "metadata": {},
   "outputs": [
    {
     "data": {
      "text/plain": [
       "tensor([[[-0.4686, -1.6725, -0.2063,  ..., -0.2795, -0.7936,  0.7235],\n",
       "         [-0.4686, -1.6725, -0.2063,  ..., -0.2795, -0.7936,  0.7235],\n",
       "         [-0.4686, -1.6725, -0.2063,  ..., -0.2795, -0.7936,  0.7235]],\n",
       "\n",
       "        [[-0.4686, -1.6725, -0.2063,  ..., -0.2795, -0.7936,  0.7235],\n",
       "         [-0.4686, -1.6725, -0.2063,  ..., -0.2795, -0.7936,  0.7235],\n",
       "         [-0.3385,  1.3120,  0.4792,  ..., -0.4028,  1.6118,  0.4701]],\n",
       "\n",
       "        [[-0.4686, -1.6725, -0.2063,  ..., -0.2795, -0.7936,  0.7235],\n",
       "         [-0.3385,  1.3120,  0.4792,  ..., -0.4028,  1.6118,  0.4701],\n",
       "         [ 0.3730,  1.4450, -1.6234,  ..., -0.2418, -0.0879,  0.6350]],\n",
       "\n",
       "        ...,\n",
       "\n",
       "        [[-1.2397, -1.0136, -0.4857,  ..., -0.9861,  1.2605, -1.0064],\n",
       "         [-1.2397, -1.0136, -0.4857,  ..., -0.9861,  1.2605, -1.0064],\n",
       "         [ 1.5731, -0.0779, -0.1996,  ...,  0.3413, -0.0312,  1.8473]],\n",
       "\n",
       "        [[-1.2397, -1.0136, -0.4857,  ..., -0.9861,  1.2605, -1.0064],\n",
       "         [ 1.5731, -0.0779, -0.1996,  ...,  0.3413, -0.0312,  1.8473],\n",
       "         [-1.2397, -1.0136, -0.4857,  ..., -0.9861,  1.2605, -1.0064]],\n",
       "\n",
       "        [[ 1.5731, -0.0779, -0.1996,  ...,  0.3413, -0.0312,  1.8473],\n",
       "         [-1.2397, -1.0136, -0.4857,  ..., -0.9861,  1.2605, -1.0064],\n",
       "         [-0.6307,  0.8108, -1.2085,  ..., -0.5296, -0.1687,  0.2806]]])"
      ]
     },
     "execution_count": 12,
     "metadata": {},
     "output_type": "execute_result"
    }
   ],
   "source": [
    "C[x]"
   ]
  },
  {
   "cell_type": "code",
   "execution_count": 13,
   "metadata": {},
   "outputs": [
    {
     "data": {
      "text/plain": [
       "torch.Size([182625, 3, 10])"
      ]
     },
     "execution_count": 13,
     "metadata": {},
     "output_type": "execute_result"
    }
   ],
   "source": [
    "emb = C[x_train]\n",
    "emb.shape"
   ]
  },
  {
   "cell_type": "code",
   "execution_count": 14,
   "metadata": {},
   "outputs": [],
   "source": [
    "W1 = torch.randn(30, 200)\n",
    "B1 = torch.randn(200)"
   ]
  },
  {
   "cell_type": "code",
   "execution_count": 15,
   "metadata": {},
   "outputs": [
    {
     "data": {
      "text/plain": [
       "(torch.Size([182625, 10]), torch.Size([182625, 10]), torch.Size([182625, 10]))"
      ]
     },
     "execution_count": 15,
     "metadata": {},
     "output_type": "execute_result"
    }
   ],
   "source": [
    "emb[:, 0, :].shape, emb[:, 1, :].shape, emb[:, 2, :].shape"
   ]
  },
  {
   "cell_type": "code",
   "execution_count": 16,
   "metadata": {},
   "outputs": [],
   "source": [
    "# torch.cat([emb[:, 0, :], emb[:, 1, :], emb[:, 2, :]], dim=1).shape"
   ]
  },
  {
   "cell_type": "code",
   "execution_count": 17,
   "metadata": {},
   "outputs": [],
   "source": [
    "# torch.cat(emb.unbind(dim=1), dim=1).shape"
   ]
  },
  {
   "cell_type": "code",
   "execution_count": 18,
   "metadata": {},
   "outputs": [
    {
     "data": {
      "text/plain": [
       "tensor([[True, True, True,  ..., True, True, True],\n",
       "        [True, True, True,  ..., True, True, True],\n",
       "        [True, True, True,  ..., True, True, True],\n",
       "        ...,\n",
       "        [True, True, True,  ..., True, True, True],\n",
       "        [True, True, True,  ..., True, True, True],\n",
       "        [True, True, True,  ..., True, True, True]])"
      ]
     },
     "execution_count": 18,
     "metadata": {},
     "output_type": "execute_result"
    }
   ],
   "source": [
    "emb.view(-1, 30) == torch.cat(emb.unbind(dim=1), dim=1)"
   ]
  },
  {
   "cell_type": "code",
   "execution_count": 19,
   "metadata": {},
   "outputs": [],
   "source": [
    "h = torch.tanh(emb.view(-1, 30) @ W1 + B1)"
   ]
  },
  {
   "cell_type": "code",
   "execution_count": 20,
   "metadata": {},
   "outputs": [],
   "source": [
    "W2 = torch.randn(200, 27)\n",
    "B2 = torch.randn(27)"
   ]
  },
  {
   "cell_type": "code",
   "execution_count": 21,
   "metadata": {},
   "outputs": [],
   "source": [
    "logits = h @ W2 + B2"
   ]
  },
  {
   "cell_type": "code",
   "execution_count": 22,
   "metadata": {},
   "outputs": [],
   "source": [
    "counts = logits.exp()"
   ]
  },
  {
   "cell_type": "code",
   "execution_count": 23,
   "metadata": {},
   "outputs": [],
   "source": [
    "prob = counts / counts.sum(dim=1, keepdim=True)"
   ]
  },
  {
   "cell_type": "code",
   "execution_count": 24,
   "metadata": {},
   "outputs": [
    {
     "data": {
      "text/plain": [
       "torch.Size([182625, 27])"
      ]
     },
     "execution_count": 24,
     "metadata": {},
     "output_type": "execute_result"
    }
   ],
   "source": [
    "prob.shape"
   ]
  },
  {
   "cell_type": "code",
   "execution_count": 25,
   "metadata": {},
   "outputs": [],
   "source": [
    "parameters = [C, W1, B1, W2, B2]"
   ]
  },
  {
   "cell_type": "code",
   "execution_count": 26,
   "metadata": {},
   "outputs": [
    {
     "data": {
      "text/plain": [
       "tensor(27.7365)"
      ]
     },
     "execution_count": 26,
     "metadata": {},
     "output_type": "execute_result"
    }
   ],
   "source": [
    "loss = F.cross_entropy(logits, y_train)\n",
    "loss"
   ]
  },
  {
   "cell_type": "code",
   "execution_count": 27,
   "metadata": {},
   "outputs": [],
   "source": [
    "lre = torch.linspace(-3, 0, 1000)\n",
    "lrs = 10 ** lre\n",
    "for p in parameters:\n",
    "    if p.grad is not None:\n",
    "        p.grad = p.grad.detach()"
   ]
  },
  {
   "cell_type": "code",
   "execution_count": 28,
   "metadata": {},
   "outputs": [
    {
     "name": "stdout",
     "output_type": "stream",
     "text": [
      "2.31160569190979\n"
     ]
    }
   ],
   "source": [
    "# Ensure requires_grad is set to True for all parameters\n",
    "for p in parameters:\n",
    "    p.requires_grad = True\n",
    "lri, lossi,stepi =  [], [], []\n",
    "\n",
    "for i in range(50000):\n",
    "    # Constructing a mini-batch\n",
    "    ix = torch.randint(0, len(x_train), (32,))\n",
    "    emb = C[x_train[ix]]\n",
    "    h = torch.tanh(emb.view(-1, 30) @ W1 + B1)\n",
    "    logits = h @ W2 + B2\n",
    "    loss = F.cross_entropy(logits, y_train[ix])\n",
    "    for p in parameters:\n",
    "        p.grad = None\n",
    "    loss.backward()\n",
    "    lr = .1\n",
    "    for p in parameters:\n",
    "        p.data += -lr * p.grad\n",
    "    stepi.append(i)\n",
    "    #lri.append(lre[i])\n",
    "    lossi.append(loss.log10().item())\n",
    "\n",
    "print(loss.item())\n"
   ]
  },
  {
   "cell_type": "code",
   "execution_count": 29,
   "metadata": {},
   "outputs": [
    {
     "data": {
      "text/plain": [
       "[<matplotlib.lines.Line2D at 0x2dde536da30>]"
      ]
     },
     "execution_count": 29,
     "metadata": {},
     "output_type": "execute_result"
    },
    {
     "data": {
      "image/png": "[encoded data removed]",
      "text/plain": [
       "<Figure size 640x480 with 1 Axes>"
      ]
     },
     "metadata": {},
     "output_type": "display_data"
    }
   ],
   "source": [
    "plt.plot(stepi, lossi)"
   ]
  },
  {
   "cell_type": "code",
   "execution_count": 30,
   "metadata": {},
   "outputs": [
    {
     "data": {
      "text/plain": [
       "2.325826406478882"
      ]
     },
     "execution_count": 30,
     "metadata": {},
     "output_type": "execute_result"
    }
   ],
   "source": [
    "emb = C[x_val]\n",
    "h = torch.tanh(emb.view(-1, 30) @ W1 + B1)\n",
    "logits = h @ W2 + B2\n",
    "loss = F.cross_entropy(logits, y_val)\n",
    "loss.item()"
   ]
  },
  {
   "cell_type": "code",
   "execution_count": 31,
   "metadata": {},
   "outputs": [
    {
     "data": {
      "text/plain": [
       "tensor([215382, 153948, 181933,   1489, 177700, 169919, 161931,   9903, 206303,\n",
       "         76828,    527, 213337,  66528,  14067, 152793, 132116,  73319, 192334,\n",
       "        100842,  69189, 200991, 106147,   4546, 222663,  67390, 135203, 141521,\n",
       "         90781, 112042, 210892, 116791,  50771])"
      ]
     },
     "execution_count": 31,
     "metadata": {},
     "output_type": "execute_result"
    }
   ],
   "source": [
    "torch.randint(0, x.shape[0], (32,))"
   ]
  },
  {
   "cell_type": "code",
   "execution_count": 32,
   "metadata": {},
   "outputs": [],
   "source": [
    "# spliting the data into training, validation, and test sets\n",
    "#                        0.8       0.1             0.1"
   ]
  },
  {
   "cell_type": "code",
   "execution_count": 33,
   "metadata": {},
   "outputs": [
    {
     "name": "stdout",
     "output_type": "stream",
     "text": [
      "torch.Size([228146, 3]) torch.Size([228146])\n"
     ]
    },
    {
     "data": {
      "text/plain": [
       "(tensor([[ 0,  0,  0],\n",
       "         [ 0,  0, 25],\n",
       "         [ 0, 25, 21],\n",
       "         ...,\n",
       "         [15, 22,  1],\n",
       "         [22,  1, 14],\n",
       "         [ 1, 14,  9]]),\n",
       " tensor([25, 21,  8,  ..., 14,  9,  0]))"
      ]
     },
     "execution_count": 33,
     "metadata": {},
     "output_type": "execute_result"
    }
   ],
   "source": [
    "buildDataset(words)"
   ]
  },
  {
   "cell_type": "code",
   "execution_count": 34,
   "metadata": {},
   "outputs": [
    {
     "name": "stdout",
     "output_type": "stream",
     "text": [
      "del.\n",
      "miie.\n",
      "cile.\n",
      "jail.\n",
      "liazonniah.\n",
      "warlah.\n",
      "mickaora.\n",
      "alianna.\n",
      "lairee.\n",
      "jayvella.\n"
     ]
    }
   ],
   "source": [
    "for _ in range(10):\n",
    "    out = []\n",
    "    context = [0] * block_size\n",
    "    while True:\n",
    "        emb = C[torch.tensor(context)]\n",
    "        h = torch.tanh(emb.view(1,-1) @ W1 + B1)\n",
    "        logits = h @ W2 + B2\n",
    "        probs = F.softmax(logits, dim=1)\n",
    "        ix = torch.multinomial(probs, 1).item()\n",
    "        context = context[1:] + [ix]\n",
    "        out.append(ix)\n",
    "        if ix == 0:\n",
    "            break\n",
    "        \n",
    "    print(''.join([itos[i] for i in out]))"
   ]
  }
 ],
 "metadata": {
  "kernelspec": {
   "display_name": "a0",
   "language": "python",
   "name": "python3"
  },
  "language_info": {
   "codemirror_mode": {
    "name": "ipython",
    "version": 3
   },
   "file_extension": ".py",
   "mimetype": "text/x-python",
   "name": "python",
   "nbconvert_exporter": "python",
   "pygments_lexer": "ipython3",
   "version": "3.12.7"
  }
 },
 "nbformat": 4,
 "nbformat_minor": 2
}
