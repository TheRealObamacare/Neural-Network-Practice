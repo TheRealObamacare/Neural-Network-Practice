{
 "cells": [
  {
   "cell_type": "code",
   "execution_count": 727,
   "metadata": {},
   "outputs": [],
   "source": [
    "import torch\n",
    "import torch.nn.functional as F\n",
    "import matplotlib.pyplot as plt\n",
    "%matplotlib inline"
   ]
  },
  {
   "cell_type": "code",
   "execution_count": 728,
   "metadata": {},
   "outputs": [],
   "source": [
    "words = open('names.txt', 'r').read().splitlines()"
   ]
  },
  {
   "cell_type": "code",
   "execution_count": 729,
   "metadata": {},
   "outputs": [
    {
     "data": {
      "text/plain": [
       "['emma', 'olivia', 'ava', 'isabella', 'sophia', 'charlotte', 'mia', 'amelia']"
      ]
     },
     "execution_count": 729,
     "metadata": {},
     "output_type": "execute_result"
    }
   ],
   "source": [
    "words[:8]"
   ]
  },
  {
   "cell_type": "code",
   "execution_count": 730,
   "metadata": {},
   "outputs": [
    {
     "data": {
      "text/plain": [
       "32033"
      ]
     },
     "execution_count": 730,
     "metadata": {},
     "output_type": "execute_result"
    }
   ],
   "source": [
    "len(words)"
   ]
  },
  {
   "cell_type": "code",
   "execution_count": 731,
   "metadata": {},
   "outputs": [
    {
     "name": "stdout",
     "output_type": "stream",
     "text": [
      "{1: 'a', 2: 'b', 3: 'c', 4: 'd', 5: 'e', 6: 'f', 7: 'g', 8: 'h', 9: 'i', 10: 'j', 11: 'k', 12: 'l', 13: 'm', 14: 'n', 15: 'o', 16: 'p', 17: 'q', 18: 'r', 19: 's', 20: 't', 21: 'u', 22: 'v', 23: 'w', 24: 'x', 25: 'y', 26: 'z', 0: '.'}\n"
     ]
    }
   ],
   "source": [
    "chars = sorted(list(set(''.join(words))))\n",
    "stoi = {ch: i+1 for i, ch in enumerate(chars)}\n",
    "stoi['.'] = 0\n",
    "itos = {i: ch for ch, i in stoi.items()}\n",
    "print(itos)"
   ]
  },
  {
   "cell_type": "code",
   "execution_count": 732,
   "metadata": {},
   "outputs": [],
   "source": [
    "block_size = 3\n",
    "x, y = [], []\n",
    "for w in words:\n",
    "    #print(w)\n",
    "    context = [0] * block_size\n",
    "    for ch in w + '.':\n",
    "        ix = stoi[ch]\n",
    "        x.append(context)\n",
    "        y.append(ix)\n",
    "        #print(''.join ([itos[i] for i in context]), '-->', itos[ix])\n",
    "        context = context[1:] + [ix]\n",
    "        \n",
    "x = torch.tensor(x)\n",
    "y = torch.tensor(y)"
   ]
  },
  {
   "cell_type": "code",
   "execution_count": 733,
   "metadata": {},
   "outputs": [
    {
     "name": "stdout",
     "output_type": "stream",
     "text": [
      "torch.Size([182625, 3]) torch.Size([182625])\n",
      "torch.Size([22655, 3]) torch.Size([22655])\n",
      "torch.Size([22866, 3]) torch.Size([22866])\n"
     ]
    }
   ],
   "source": [
    "def buildDataset(words):\n",
    "    block_size = 3\n",
    "    x, y = [], []\n",
    "    for w in words:\n",
    "        #print(w)\n",
    "        context = [0] * block_size\n",
    "        for ch in w + '.':\n",
    "            ix = stoi[ch]\n",
    "            x.append(context)\n",
    "            y.append(ix)\n",
    "            #print(''.join ([itos[i] for i in context]), '-->', itos[ix])\n",
    "            context = context[1:] + [ix]\n",
    "            \n",
    "    x = torch.tensor(x)\n",
    "    y = torch.tensor(y)\n",
    "    print(x.shape, y.shape)\n",
    "    return x, y\n",
    "import random\n",
    "random.seed(42)\n",
    "random.shuffle(words)\n",
    "n1 = int (len(words)*.8)    \n",
    "n2 = int (len(words)*.9)    \n",
    "x_train, y_train = buildDataset(words[:n1])\n",
    "x_val, y_val = buildDataset(words[n1:n2])\n",
    "x_test, y_test = buildDataset(words[n2:])\n"
   ]
  },
  {
   "cell_type": "code",
   "execution_count": 734,
   "metadata": {},
   "outputs": [
    {
     "data": {
      "text/plain": [
       "(torch.Size([182625, 3]), torch.Size([182625]))"
      ]
     },
     "execution_count": 734,
     "metadata": {},
     "output_type": "execute_result"
    }
   ],
   "source": [
    "x_train.shape, y_train.shape"
   ]
  },
  {
   "cell_type": "code",
   "execution_count": 735,
   "metadata": {},
   "outputs": [
    {
     "data": {
      "text/plain": [
       "tensor([[ 0.9708,  0.9502,  1.1376,  0.2378,  1.1633, -0.5443,  1.0207,  0.4426,\n",
       "         -0.1448, -0.4958],\n",
       "        [-0.3642,  0.6860,  0.1976,  0.2413, -1.0751, -0.4325,  1.3032,  1.1420,\n",
       "          0.0820,  1.1566],\n",
       "        [ 0.3961, -1.1990, -0.7096, -0.3220, -1.7196,  0.0643, -0.3234, -0.7036,\n",
       "         -2.0251,  0.4557],\n",
       "        [-1.4959,  2.1213, -1.0824, -0.3076, -1.4671, -0.4699,  0.7049,  0.2058,\n",
       "         -0.0408, -0.2229],\n",
       "        [-0.0658,  0.4350, -1.0055,  0.0813, -0.5989,  0.1764, -0.2891,  0.5553,\n",
       "         -0.8623, -1.0883],\n",
       "        [-0.2877, -1.5005,  0.1639,  0.7346, -0.6162,  0.3797,  1.0638,  0.2033,\n",
       "         -0.1548,  0.3130],\n",
       "        [-0.2219,  1.1939,  1.7462, -0.3130,  0.3638,  0.2147, -1.0649,  1.7555,\n",
       "          0.6464,  0.5058],\n",
       "        [ 1.4420, -0.0926,  0.0728,  0.0913, -1.6923, -0.1312, -0.0747, -1.5829,\n",
       "          0.4283,  0.3083],\n",
       "        [ 1.1371, -1.1256,  0.3953,  0.6916,  0.1298,  1.0056, -0.3048, -0.0915,\n",
       "         -0.5309, -0.2909],\n",
       "        [-1.0261, -1.3635, -0.3554, -0.1141,  0.5944,  0.1621,  1.3606, -0.3362,\n",
       "          0.5197, -0.0258],\n",
       "        [-2.8917,  0.8923,  0.5805, -1.4846,  0.8618, -0.5668,  0.8169, -0.7945,\n",
       "          1.3204, -0.1569],\n",
       "        [ 1.2197,  0.4420, -0.0905, -0.2617,  0.5952,  0.3566,  1.1038, -0.1305,\n",
       "         -0.2335,  1.2918],\n",
       "        [ 0.7630, -1.5230, -0.2584,  0.2118,  0.0192, -0.7544, -0.9517, -0.0555,\n",
       "          0.8443, -0.2257],\n",
       "        [-0.1941,  1.2525, -0.3413, -0.0892,  1.4701,  0.5346, -0.7135, -0.8635,\n",
       "         -1.1305,  1.1060],\n",
       "        [ 1.2456, -0.0150,  0.7392, -0.0379,  0.3002,  2.1618,  0.0758, -0.2522,\n",
       "         -0.7162,  0.7140],\n",
       "        [-0.6983,  1.2065,  3.1010, -1.5399, -0.4539, -0.6883,  1.0196, -1.5017,\n",
       "         -0.2833,  0.8545],\n",
       "        [ 0.8860,  0.5615,  0.1604, -1.6046,  1.2370, -1.4180, -1.8025, -0.5399,\n",
       "         -0.7045,  0.4774],\n",
       "        [ 0.6811,  2.4778, -1.1946, -0.0554, -1.6535, -0.9588,  0.2613,  2.3931,\n",
       "         -2.1510, -1.2037],\n",
       "        [ 0.0280, -0.2074, -0.4101,  0.4887,  0.5087,  0.4322, -0.4507,  1.7224,\n",
       "         -1.0103, -0.0204],\n",
       "        [-1.1232,  0.4283,  0.0109, -0.9694, -1.2408,  2.0430, -0.1251, -0.6547,\n",
       "          0.3074, -0.2857],\n",
       "        [ 0.2582, -0.5064, -1.1129,  0.7245, -0.8272, -0.3271,  0.4491,  1.0663,\n",
       "         -0.4076,  0.6275],\n",
       "        [-0.6020, -0.7059,  0.2498,  0.4245, -0.7553,  0.9977,  1.1003,  0.4815,\n",
       "         -0.0545,  0.8905],\n",
       "        [-1.1769, -0.9004, -1.1893, -0.6897,  1.0363, -1.4890,  0.2993, -0.1367,\n",
       "          1.8294,  0.4137],\n",
       "        [ 0.3243, -0.4948, -1.1941, -0.5758, -0.0203, -0.5972, -0.4490, -0.6358,\n",
       "          1.2765, -0.2898],\n",
       "        [-0.7412,  0.4020, -0.3541,  0.1977, -0.4373,  0.0907,  0.1399, -1.1738,\n",
       "         -1.1439, -0.6074],\n",
       "        [-1.3711, -0.0764, -0.3671,  0.2333,  0.1335, -0.8714, -0.5285,  1.3332,\n",
       "         -0.7369,  1.3294],\n",
       "        [-0.1738, -0.6228,  2.0529, -0.4409,  2.2851, -0.5088, -0.3729, -0.5557,\n",
       "          2.4228,  1.6196]])"
      ]
     },
     "execution_count": 735,
     "metadata": {},
     "output_type": "execute_result"
    }
   ],
   "source": [
    "C = torch.randn(27,10)\n",
    "C"
   ]
  },
  {
   "cell_type": "code",
   "execution_count": 736,
   "metadata": {},
   "outputs": [
    {
     "data": {
      "text/plain": [
       "tensor([[ 1.4420, -0.0926,  0.0728,  0.0913, -1.6923, -0.1312, -0.0747, -1.5829,\n",
       "          0.4283,  0.3083],\n",
       "        [-0.2877, -1.5005,  0.1639,  0.7346, -0.6162,  0.3797,  1.0638,  0.2033,\n",
       "         -0.1548,  0.3130],\n",
       "        [-0.2219,  1.1939,  1.7462, -0.3130,  0.3638,  0.2147, -1.0649,  1.7555,\n",
       "          0.6464,  0.5058],\n",
       "        [ 1.4420, -0.0926,  0.0728,  0.0913, -1.6923, -0.1312, -0.0747, -1.5829,\n",
       "          0.4283,  0.3083]])"
      ]
     },
     "execution_count": 736,
     "metadata": {},
     "output_type": "execute_result"
    }
   ],
   "source": [
    "C[[7, 5, 6, 7]]"
   ]
  },
  {
   "cell_type": "code",
   "execution_count": 737,
   "metadata": {},
   "outputs": [
    {
     "data": {
      "text/plain": [
       "tensor([[[ 0.9708,  0.9502,  1.1376,  ...,  0.4426, -0.1448, -0.4958],\n",
       "         [ 0.9708,  0.9502,  1.1376,  ...,  0.4426, -0.1448, -0.4958],\n",
       "         [ 0.9708,  0.9502,  1.1376,  ...,  0.4426, -0.1448, -0.4958]],\n",
       "\n",
       "        [[ 0.9708,  0.9502,  1.1376,  ...,  0.4426, -0.1448, -0.4958],\n",
       "         [ 0.9708,  0.9502,  1.1376,  ...,  0.4426, -0.1448, -0.4958],\n",
       "         [-0.2877, -1.5005,  0.1639,  ...,  0.2033, -0.1548,  0.3130]],\n",
       "\n",
       "        [[ 0.9708,  0.9502,  1.1376,  ...,  0.4426, -0.1448, -0.4958],\n",
       "         [-0.2877, -1.5005,  0.1639,  ...,  0.2033, -0.1548,  0.3130],\n",
       "         [-0.1941,  1.2525, -0.3413,  ..., -0.8635, -1.1305,  1.1060]],\n",
       "\n",
       "        ...,\n",
       "\n",
       "        [[-0.1738, -0.6228,  2.0529,  ..., -0.5557,  2.4228,  1.6196],\n",
       "         [-0.1738, -0.6228,  2.0529,  ..., -0.5557,  2.4228,  1.6196],\n",
       "         [-1.3711, -0.0764, -0.3671,  ...,  1.3332, -0.7369,  1.3294]],\n",
       "\n",
       "        [[-0.1738, -0.6228,  2.0529,  ..., -0.5557,  2.4228,  1.6196],\n",
       "         [-1.3711, -0.0764, -0.3671,  ...,  1.3332, -0.7369,  1.3294],\n",
       "         [-0.1738, -0.6228,  2.0529,  ..., -0.5557,  2.4228,  1.6196]],\n",
       "\n",
       "        [[-1.3711, -0.0764, -0.3671,  ...,  1.3332, -0.7369,  1.3294],\n",
       "         [-0.1738, -0.6228,  2.0529,  ..., -0.5557,  2.4228,  1.6196],\n",
       "         [-0.7412,  0.4020, -0.3541,  ..., -1.1738, -1.1439, -0.6074]]])"
      ]
     },
     "execution_count": 737,
     "metadata": {},
     "output_type": "execute_result"
    }
   ],
   "source": [
    "C[x]"
   ]
  },
  {
   "cell_type": "code",
   "execution_count": 738,
   "metadata": {},
   "outputs": [
    {
     "data": {
      "text/plain": [
       "torch.Size([182625, 3, 10])"
      ]
     },
     "execution_count": 738,
     "metadata": {},
     "output_type": "execute_result"
    }
   ],
   "source": [
    "emb = C[x_train]\n",
    "emb.shape"
   ]
  },
  {
   "cell_type": "code",
   "execution_count": 739,
   "metadata": {},
   "outputs": [],
   "source": [
    "W1 = torch.randn(30, 200)\n",
    "B1 = torch.randn(200)"
   ]
  },
  {
   "cell_type": "code",
   "execution_count": 740,
   "metadata": {},
   "outputs": [
    {
     "data": {
      "text/plain": [
       "(torch.Size([182625, 10]), torch.Size([182625, 10]), torch.Size([182625, 10]))"
      ]
     },
     "execution_count": 740,
     "metadata": {},
     "output_type": "execute_result"
    }
   ],
   "source": [
    "emb[:, 0, :].shape, emb[:, 1, :].shape, emb[:, 2, :].shape"
   ]
  },
  {
   "cell_type": "code",
   "execution_count": 741,
   "metadata": {},
   "outputs": [],
   "source": [
    "# torch.cat([emb[:, 0, :], emb[:, 1, :], emb[:, 2, :]], dim=1).shape"
   ]
  },
  {
   "cell_type": "code",
   "execution_count": 742,
   "metadata": {},
   "outputs": [],
   "source": [
    "# torch.cat(emb.unbind(dim=1), dim=1).shape"
   ]
  },
  {
   "cell_type": "code",
   "execution_count": 743,
   "metadata": {},
   "outputs": [
    {
     "data": {
      "text/plain": [
       "tensor([[True, True, True,  ..., True, True, True],\n",
       "        [True, True, True,  ..., True, True, True],\n",
       "        [True, True, True,  ..., True, True, True],\n",
       "        ...,\n",
       "        [True, True, True,  ..., True, True, True],\n",
       "        [True, True, True,  ..., True, True, True],\n",
       "        [True, True, True,  ..., True, True, True]])"
      ]
     },
     "execution_count": 743,
     "metadata": {},
     "output_type": "execute_result"
    }
   ],
   "source": [
    "emb.view(-1, 30) == torch.cat(emb.unbind(dim=1), dim=1)"
   ]
  },
  {
   "cell_type": "code",
   "execution_count": 744,
   "metadata": {},
   "outputs": [],
   "source": [
    "h = torch.tanh(emb.view(-1, 30) @ W1 + B1)"
   ]
  },
  {
   "cell_type": "code",
   "execution_count": 745,
   "metadata": {},
   "outputs": [],
   "source": [
    "W2 = torch.randn(200, 27)\n",
    "B2 = torch.randn(27)"
   ]
  },
  {
   "cell_type": "code",
   "execution_count": 746,
   "metadata": {},
   "outputs": [],
   "source": [
    "logits = h @ W2 + B2"
   ]
  },
  {
   "cell_type": "code",
   "execution_count": 747,
   "metadata": {},
   "outputs": [],
   "source": [
    "counts = logits.exp()"
   ]
  },
  {
   "cell_type": "code",
   "execution_count": 748,
   "metadata": {},
   "outputs": [],
   "source": [
    "prob = counts / counts.sum(dim=1, keepdim=True)"
   ]
  },
  {
   "cell_type": "code",
   "execution_count": 749,
   "metadata": {},
   "outputs": [
    {
     "data": {
      "text/plain": [
       "torch.Size([182625, 27])"
      ]
     },
     "execution_count": 749,
     "metadata": {},
     "output_type": "execute_result"
    }
   ],
   "source": [
    "prob.shape"
   ]
  },
  {
   "cell_type": "code",
   "execution_count": 750,
   "metadata": {},
   "outputs": [],
   "source": [
    "parameters = [C, W1, B1, W2, B2]"
   ]
  },
  {
   "cell_type": "code",
   "execution_count": 751,
   "metadata": {},
   "outputs": [
    {
     "data": {
      "text/plain": [
       "tensor(25.6356)"
      ]
     },
     "execution_count": 751,
     "metadata": {},
     "output_type": "execute_result"
    }
   ],
   "source": [
    "loss = F.cross_entropy(logits, y_train)\n",
    "loss"
   ]
  },
  {
   "cell_type": "code",
   "execution_count": 752,
   "metadata": {},
   "outputs": [],
   "source": [
    "lre = torch.linspace(-3, 0, 1000)\n",
    "lrs = 10 ** lre\n",
    "for p in parameters:\n",
    "    if p.grad is not None:\n",
    "        p.grad = p.grad.detach()"
   ]
  },
  {
   "cell_type": "code",
   "execution_count": 753,
   "metadata": {},
   "outputs": [
    {
     "name": "stdout",
     "output_type": "stream",
     "text": [
      "2.5068817138671875\n"
     ]
    }
   ],
   "source": [
    "# Ensure requires_grad is set to True for all parameters\n",
    "for p in parameters:\n",
    "    p.requires_grad = True\n",
    "lri, lossi,stepi =  [], [], []\n",
    "\n",
    "for i in range(50000):\n",
    "    # Constructing a mini-batch\n",
    "    ix = torch.randint(0, len(x_train), (32,))\n",
    "    emb = C[x_train[ix]]\n",
    "    h = torch.tanh(emb.view(-1, 30) @ W1 + B1)\n",
    "    logits = h @ W2 + B2\n",
    "    loss = F.cross_entropy(logits, y_train[ix])\n",
    "    for p in parameters:\n",
    "        p.grad = None\n",
    "    loss.backward()\n",
    "    lr = .1\n",
    "    for p in parameters:\n",
    "        p.data += -lr * p.grad\n",
    "    stepi.append(i)\n",
    "    #lri.append(lre[i])\n",
    "    lossi.append(loss.log10().item())\n",
    "\n",
    "print(loss.item())\n"
   ]
  },
  {
   "cell_type": "code",
   "execution_count": 754,
   "metadata": {},
   "outputs": [
    {
     "data": {
      "text/plain": [
       "[<matplotlib.lines.Line2D at 0x23ba3cef3e0>]"
      ]
     },
     "execution_count": 754,
     "metadata": {},
     "output_type": "execute_result"
    },
    {
     "data": {
      "image/png": "[encoded data removed]",
      "text/plain": [
       "<Figure size 640x480 with 1 Axes>"
      ]
     },
     "metadata": {},
     "output_type": "display_data"
    }
   ],
   "source": [
    "plt.plot(stepi, lossi)"
   ]
  },
  {
   "cell_type": "code",
   "execution_count": 755,
   "metadata": {},
   "outputs": [
    {
     "data": {
      "text/plain": [
       "2.383742094039917"
      ]
     },
     "execution_count": 755,
     "metadata": {},
     "output_type": "execute_result"
    }
   ],
   "source": [
    "emb = C[x_val]\n",
    "h = torch.tanh(emb.view(-1, 30) @ W1 + B1)\n",
    "logits = h @ W2 + B2\n",
    "loss = F.cross_entropy(logits, y_val)\n",
    "loss.item()"
   ]
  },
  {
   "cell_type": "code",
   "execution_count": 756,
   "metadata": {},
   "outputs": [
    {
     "data": {
      "text/plain": [
       "tensor([ 42599, 166643, 182076, 130923, 104603, 208713,  74971,  22557,  59017,\n",
       "         68077,  86561,  42528, 107476,  93009, 204947, 211471, 168476,  13078,\n",
       "        166709,  99405, 225421, 225144, 218719, 206409,  53193,  50165,  26426,\n",
       "        126518,  23848,  43446,  38124, 131460])"
      ]
     },
     "execution_count": 756,
     "metadata": {},
     "output_type": "execute_result"
    }
   ],
   "source": [
    "torch.randint(0, x.shape[0], (32,))"
   ]
  },
  {
   "cell_type": "code",
   "execution_count": 757,
   "metadata": {},
   "outputs": [],
   "source": [
    "# spliting the data into training, validation, and test sets\n",
    "#                        0.8       0.1             0.1"
   ]
  },
  {
   "cell_type": "code",
   "execution_count": 758,
   "metadata": {},
   "outputs": [
    {
     "name": "stdout",
     "output_type": "stream",
     "text": [
      "torch.Size([228146, 3]) torch.Size([228146])\n"
     ]
    },
    {
     "data": {
      "text/plain": [
       "(tensor([[ 0,  0,  0],\n",
       "         [ 0,  0, 25],\n",
       "         [ 0, 25, 21],\n",
       "         ...,\n",
       "         [15, 22,  1],\n",
       "         [22,  1, 14],\n",
       "         [ 1, 14,  9]]),\n",
       " tensor([25, 21,  8,  ..., 14,  9,  0]))"
      ]
     },
     "execution_count": 758,
     "metadata": {},
     "output_type": "execute_result"
    }
   ],
   "source": [
    "buildDataset(words)"
   ]
  },
  {
   "cell_type": "code",
   "execution_count": 767,
   "metadata": {},
   "outputs": [
    {
     "name": "stdout",
     "output_type": "stream",
     "text": [
      "coddan.\n",
      "blani.\n",
      "sabettyxt.\n",
      "adten.\n",
      "kaevonna.\n",
      "min.\n",
      "suriamyssori.\n",
      "javane.\n",
      "maxindom.\n",
      "hima.\n"
     ]
    }
   ],
   "source": [
    "for _ in range(10):\n",
    "    out = []\n",
    "    context = [0] * block_size\n",
    "    while True:\n",
    "        emb = C[torch.tensor(context)]\n",
    "        h = torch.tanh(emb.view(1,-1) @ W1 + B1)\n",
    "        logits = h @ W2 + B2\n",
    "        probs = F.softmax(logits, dim=1)\n",
    "        ix = torch.multinomial(probs, 1).item()\n",
    "        context = context[1:] + [ix]\n",
    "        out.append(ix)\n",
    "        if ix == 0:\n",
    "            break\n",
    "        \n",
    "    print(''.join([itos[i] for i in out]))"
   ]
  }
 ],
 "metadata": {
  "kernelspec": {
   "display_name": "a0",
   "language": "python",
   "name": "python3"
  },
  "language_info": {
   "codemirror_mode": {
    "name": "ipython",
    "version": 3
   },
   "file_extension": ".py",
   "mimetype": "text/x-python",
   "name": "python",
   "nbconvert_exporter": "python",
   "pygments_lexer": "ipython3",
   "version": "3.12.7"
  }
 },
 "nbformat": 4,
 "nbformat_minor": 2
}
